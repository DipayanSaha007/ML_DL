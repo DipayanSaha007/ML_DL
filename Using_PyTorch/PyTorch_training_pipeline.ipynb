{
 "cells": [
  {
   "cell_type": "markdown",
   "id": "6994294f",
   "metadata": {},
   "source": [
    "# LEC-4"
   ]
  },
  {
   "cell_type": "code",
   "execution_count": null,
   "id": "d7758dae",
   "metadata": {},
   "outputs": [],
   "source": [
    "import numpy"
   ]
  },
  {
   "cell_type": "code",
   "execution_count": null,
   "id": "e3d0dbe6",
   "metadata": {},
   "outputs": [],
   "source": []
  }
 ],
 "metadata": {
  "kernelspec": {
   "display_name": "Python 3",
   "language": "python",
   "name": "python3"
  },
  "language_info": {
   "name": "python",
   "version": "3.12.6"
  }
 },
 "nbformat": 4,
 "nbformat_minor": 5
}

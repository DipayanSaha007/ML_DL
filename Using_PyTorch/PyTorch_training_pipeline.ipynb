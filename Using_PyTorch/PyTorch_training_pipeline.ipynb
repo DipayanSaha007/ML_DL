{
  "cells": [
    {
      "cell_type": "markdown",
      "id": "6994294f",
      "metadata": {
        "id": "6994294f"
      },
      "source": [
        "# LEC-4\n",
        "Code Flow\n",
        "1. Load the dataset\n",
        "2. Basic Preprocessing\n",
        "3. Training Process\n",
        "  *  a. Create the model\n",
        "  *  b. Forward pass\n",
        "  *  c. Loss calculation\n",
        "  *  d. Backprop\n",
        "  *  e. Parameters update\n",
        "4. Model evaluation"
      ]
    },
    {
      "cell_type": "code",
      "execution_count": null,
      "id": "d7758dae",
      "metadata": {
        "id": "d7758dae"
      },
      "outputs": [],
      "source": [
        "import numpy"
      ]
    },
    {
      "cell_type": "code",
      "execution_count": null,
      "id": "e3d0dbe6",
      "metadata": {
        "id": "e3d0dbe6"
      },
      "outputs": [],
      "source": []
    }
  ],
  "metadata": {
    "kernelspec": {
      "display_name": "Python 3",
      "language": "python",
      "name": "python3"
    },
    "language_info": {
      "name": "python",
      "version": "3.12.6"
    },
    "colab": {
      "provenance": []
    }
  },
  "nbformat": 4,
  "nbformat_minor": 5
}
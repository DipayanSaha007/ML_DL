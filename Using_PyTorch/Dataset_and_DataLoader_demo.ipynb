{
  "cells": [
    {
      "cell_type": "markdown",
      "id": "398bdabe",
      "metadata": {
        "id": "398bdabe"
      },
      "source": [
        "# LEC-6"
      ]
    },
    {
      "cell_type": "code",
      "execution_count": 1,
      "id": "ddec9f0d",
      "metadata": {
        "vscode": {
          "languageId": "plaintext"
        },
        "id": "ddec9f0d"
      },
      "outputs": [],
      "source": [
        "import torch\n",
        "from sklearn.datasets import make_classification"
      ]
    },
    {
      "cell_type": "code",
      "execution_count": 3,
      "id": "c9d592bc",
      "metadata": {
        "vscode": {
          "languageId": "plaintext"
        },
        "id": "c9d592bc",
        "outputId": "6b202527-364f-4777-a09d-1c3473bd48bb",
        "colab": {
          "base_uri": "https://localhost:8080/"
        }
      },
      "outputs": [
        {
          "output_type": "execute_result",
          "data": {
            "text/plain": [
              "(array([[ 1.06833894, -0.97007347],\n",
              "        [-1.14021544, -0.83879234],\n",
              "        [-2.8953973 ,  1.97686236],\n",
              "        [-0.72063436, -0.96059253],\n",
              "        [-1.96287438, -0.99225135],\n",
              "        [-0.9382051 , -0.54304815],\n",
              "        [ 1.72725924, -1.18582677],\n",
              "        [ 1.77736657,  1.51157598],\n",
              "        [ 1.89969252,  0.83444483],\n",
              "        [-0.58723065, -1.97171753]]),\n",
              " array([1, 0, 0, 0, 0, 1, 1, 1, 1, 0]))"
            ]
          },
          "metadata": {},
          "execution_count": 3
        }
      ],
      "source": [
        "# Step-1: Create a synthetic classification dataset using sklearn\n",
        "x, y = make_classification(\n",
        "    n_samples=10, # Number of Samples\n",
        "    n_features=2, # Number of Features\n",
        "    n_informative=2, # Number of Informative Features\n",
        "    n_redundant=0, # Number of Redundant Features\n",
        "    n_classes=2, # Number of Classes\n",
        "    random_state=42 # Random State\n",
        ")\n",
        "x, y"
      ]
    },
    {
      "cell_type": "code",
      "source": [
        "x.shape, y.shape"
      ],
      "metadata": {
        "id": "N2qGckAIUkio",
        "outputId": "43b68cab-592d-4121-bba3-6cb8bfdb29e4",
        "colab": {
          "base_uri": "https://localhost:8080/"
        }
      },
      "id": "N2qGckAIUkio",
      "execution_count": 4,
      "outputs": [
        {
          "output_type": "execute_result",
          "data": {
            "text/plain": [
              "((10, 2), (10,))"
            ]
          },
          "metadata": {},
          "execution_count": 4
        }
      ]
    },
    {
      "cell_type": "code",
      "source": [
        "# Convert the Data to PyTorch Tensors\n",
        "x = torch.tensor(x, dtype=torch.float32)\n",
        "y = torch.tensor(y, dtype=torch.float32)\n",
        "x, y"
      ],
      "metadata": {
        "id": "Pm_BT8EAUunk",
        "outputId": "ceaf303d-2b5e-49ad-94a0-c33db95460a5",
        "colab": {
          "base_uri": "https://localhost:8080/"
        }
      },
      "id": "Pm_BT8EAUunk",
      "execution_count": 5,
      "outputs": [
        {
          "output_type": "execute_result",
          "data": {
            "text/plain": [
              "(tensor([[ 1.0683, -0.9701],\n",
              "         [-1.1402, -0.8388],\n",
              "         [-2.8954,  1.9769],\n",
              "         [-0.7206, -0.9606],\n",
              "         [-1.9629, -0.9923],\n",
              "         [-0.9382, -0.5430],\n",
              "         [ 1.7273, -1.1858],\n",
              "         [ 1.7774,  1.5116],\n",
              "         [ 1.8997,  0.8344],\n",
              "         [-0.5872, -1.9717]]),\n",
              " tensor([1., 0., 0., 0., 0., 1., 1., 1., 1., 0.]))"
            ]
          },
          "metadata": {},
          "execution_count": 5
        }
      ]
    },
    {
      "cell_type": "markdown",
      "source": [
        "## Using Dataset and DataLoader"
      ],
      "metadata": {
        "id": "nsmsku8xVJp6"
      },
      "id": "nsmsku8xVJp6"
    },
    {
      "cell_type": "code",
      "source": [
        "from torch.utils.data import Dataset, DataLoader"
      ],
      "metadata": {
        "id": "evPhG0VnU-UM"
      },
      "id": "evPhG0VnU-UM",
      "execution_count": 6,
      "outputs": []
    },
    {
      "cell_type": "code",
      "source": [
        "class CustomDataset(Dataset):\n",
        "  def __init__(self, features, labels):\n",
        "    self.features = features\n",
        "    self.labels = labels\n",
        "\n",
        "  def __len__(self):\n",
        "    return len(self.features) # returns self.features.shape[0]\n",
        "\n",
        "  def __getitem__(self, index):\n",
        "    return self.features[index], self.labels[index]"
      ],
      "metadata": {
        "id": "-1FUnFx8VRRC"
      },
      "id": "-1FUnFx8VRRC",
      "execution_count": 7,
      "outputs": []
    },
    {
      "cell_type": "code",
      "source": [
        "# Dataset obj\n",
        "dataset = CustomDataset(x, y)"
      ],
      "metadata": {
        "id": "EIxWAB6IVvJj"
      },
      "id": "EIxWAB6IVvJj",
      "execution_count": 14,
      "outputs": []
    },
    {
      "cell_type": "code",
      "source": [
        "len(dataset) # As we have 10 rows in data"
      ],
      "metadata": {
        "id": "UcHNi791VyF-",
        "outputId": "45138d5f-3ee1-490e-ef1d-d3f2eb9430b1",
        "colab": {
          "base_uri": "https://localhost:8080/"
        }
      },
      "id": "UcHNi791VyF-",
      "execution_count": 15,
      "outputs": [
        {
          "output_type": "execute_result",
          "data": {
            "text/plain": [
              "10"
            ]
          },
          "metadata": {},
          "execution_count": 15
        }
      ]
    },
    {
      "cell_type": "code",
      "source": [
        "dataset[0]  # 0 th element"
      ],
      "metadata": {
        "id": "YbJgETpIV5u5",
        "outputId": "fb389aed-80bf-4f61-f1d9-1fd6684323b2",
        "colab": {
          "base_uri": "https://localhost:8080/"
        }
      },
      "id": "YbJgETpIV5u5",
      "execution_count": 16,
      "outputs": [
        {
          "output_type": "execute_result",
          "data": {
            "text/plain": [
              "(tensor([ 1.0683, -0.9701]), tensor(1.))"
            ]
          },
          "metadata": {},
          "execution_count": 16
        }
      ]
    },
    {
      "cell_type": "code",
      "source": [
        "# Dataloader obj\n",
        "dataloader = DataLoader(dataset, batch_size=2, shuffle=True)"
      ],
      "metadata": {
        "id": "kBHjF3B7V-3m"
      },
      "id": "kBHjF3B7V-3m",
      "execution_count": 17,
      "outputs": []
    },
    {
      "cell_type": "code",
      "source": [
        "for batch_features, batch_labels in dataloader:\n",
        "  print(batch_features)\n",
        "  print(batch_labels)\n",
        "  print(\"-\"*50)"
      ],
      "metadata": {
        "id": "Hr7M0uaoWRCk",
        "outputId": "bab9338d-5510-4256-b6fd-25a33237bc66",
        "colab": {
          "base_uri": "https://localhost:8080/"
        }
      },
      "id": "Hr7M0uaoWRCk",
      "execution_count": 18,
      "outputs": [
        {
          "output_type": "stream",
          "name": "stdout",
          "text": [
            "tensor([[-1.9629, -0.9923],\n",
            "        [-2.8954,  1.9769]])\n",
            "tensor([0., 0.])\n",
            "--------------------------------------------------\n",
            "tensor([[-0.7206, -0.9606],\n",
            "        [ 1.8997,  0.8344]])\n",
            "tensor([0., 1.])\n",
            "--------------------------------------------------\n",
            "tensor([[ 1.7774,  1.5116],\n",
            "        [ 1.0683, -0.9701]])\n",
            "tensor([1., 1.])\n",
            "--------------------------------------------------\n",
            "tensor([[ 1.7273, -1.1858],\n",
            "        [-1.1402, -0.8388]])\n",
            "tensor([1., 0.])\n",
            "--------------------------------------------------\n",
            "tensor([[-0.9382, -0.5430],\n",
            "        [-0.5872, -1.9717]])\n",
            "tensor([1., 0.])\n",
            "--------------------------------------------------\n"
          ]
        }
      ]
    },
    {
      "cell_type": "code",
      "source": [],
      "metadata": {
        "id": "vXBr3g4qWbOC"
      },
      "id": "vXBr3g4qWbOC",
      "execution_count": null,
      "outputs": []
    }
  ],
  "metadata": {
    "language_info": {
      "name": "python"
    },
    "colab": {
      "provenance": []
    },
    "kernelspec": {
      "name": "python3",
      "display_name": "Python 3"
    }
  },
  "nbformat": 4,
  "nbformat_minor": 5
}
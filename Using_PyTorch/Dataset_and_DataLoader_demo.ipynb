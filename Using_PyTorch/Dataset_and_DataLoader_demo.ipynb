{
 "cells": [
  {
   "cell_type": "markdown",
   "id": "398bdabe",
   "metadata": {},
   "source": [
    "# LEC-6"
   ]
  },
  {
   "cell_type": "code",
   "execution_count": null,
   "id": "ddec9f0d",
   "metadata": {
    "vscode": {
     "languageId": "plaintext"
    }
   },
   "outputs": [],
   "source": [
    "import torch"
   ]
  },
  {
   "cell_type": "code",
   "execution_count": null,
   "id": "c9d592bc",
   "metadata": {
    "vscode": {
     "languageId": "plaintext"
    }
   },
   "outputs": [],
   "source": []
  }
 ],
 "metadata": {
  "language_info": {
   "name": "python"
  }
 },
 "nbformat": 4,
 "nbformat_minor": 5
}

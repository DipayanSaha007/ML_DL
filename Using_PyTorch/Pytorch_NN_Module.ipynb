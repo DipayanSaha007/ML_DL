{
  "cells": [
    {
      "cell_type": "markdown",
      "id": "6d2c7868",
      "metadata": {
        "id": "6d2c7868"
      },
      "source": [
        "# LEC-5"
      ]
    },
    {
      "cell_type": "markdown",
      "source": [
        "# Model with single Neuron"
      ],
      "metadata": {
        "id": "2n-1_4KQngs6"
      },
      "id": "2n-1_4KQngs6"
    },
    {
      "cell_type": "code",
      "source": [
        "# Create Model Class\n",
        "import torch\n",
        "import torch.nn as nn\n",
        "\n",
        "# NN Architecture\n",
        "class Model(nn.Module):\n",
        "  def __init__(self, num_input_features):\n",
        "    super(Model, self).__init__()\n",
        "    self.linear = nn.Linear(num_input_features, 1) # nn.Linear(input, output)\n",
        "    self.sigmoid = nn.Sigmoid()\n",
        "\n",
        "  def forward(self, features):\n",
        "    out = self.linear(features) # z = wx+b\n",
        "    out = self.sigmoid(out) # y_pred = sigmoid(z)\n",
        "    return out"
      ],
      "metadata": {
        "id": "Rx0P9XjzhASD"
      },
      "id": "Rx0P9XjzhASD",
      "execution_count": 16,
      "outputs": []
    },
    {
      "cell_type": "code",
      "source": [
        "# Create Dataset\n",
        "features = torch.rand(10,5) # 10 rows, 5 columns, so 5 features\n",
        "\n",
        "# Create Model\n",
        "model = Model(features.shape[1])\n",
        "\n",
        "# Call Model for Forward pass\n",
        "# use model.forward(features) or model(features)\n",
        "model(features)"
      ],
      "metadata": {
        "id": "jsY4y5GGlPhg",
        "outputId": "4f7e77f4-4f4d-4626-baf1-eaee2431b7dc",
        "colab": {
          "base_uri": "https://localhost:8080/"
        }
      },
      "id": "jsY4y5GGlPhg",
      "execution_count": 17,
      "outputs": [
        {
          "output_type": "execute_result",
          "data": {
            "text/plain": [
              "tensor([[0.2821],\n",
              "        [0.3402],\n",
              "        [0.2737],\n",
              "        [0.3205],\n",
              "        [0.2995],\n",
              "        [0.3005],\n",
              "        [0.2903],\n",
              "        [0.3443],\n",
              "        [0.2847],\n",
              "        [0.3385]], grad_fn=<SigmoidBackward0>)"
            ]
          },
          "metadata": {},
          "execution_count": 17
        }
      ]
    },
    {
      "cell_type": "code",
      "source": [
        "# Show Model Weights\n",
        "model.linear.weight"
      ],
      "metadata": {
        "id": "E9KSNqcDmC6e",
        "outputId": "a8ab4038-bb65-4b80-ba98-6025ded6d591",
        "colab": {
          "base_uri": "https://localhost:8080/"
        }
      },
      "id": "E9KSNqcDmC6e",
      "execution_count": 18,
      "outputs": [
        {
          "output_type": "execute_result",
          "data": {
            "text/plain": [
              "Parameter containing:\n",
              "tensor([[-0.4437, -0.0467, -0.1107, -0.4119, -0.1285]], requires_grad=True)"
            ]
          },
          "metadata": {},
          "execution_count": 18
        }
      ]
    },
    {
      "cell_type": "code",
      "source": [
        "# Show Model Bias\n",
        "model.linear.bias"
      ],
      "metadata": {
        "id": "jBAJCy30mwjv",
        "outputId": "44f52a20-8a09-4fce-93da-017a3d839469",
        "colab": {
          "base_uri": "https://localhost:8080/"
        }
      },
      "id": "jBAJCy30mwjv",
      "execution_count": 19,
      "outputs": [
        {
          "output_type": "execute_result",
          "data": {
            "text/plain": [
              "Parameter containing:\n",
              "tensor([-0.2321], requires_grad=True)"
            ]
          },
          "metadata": {},
          "execution_count": 19
        }
      ]
    },
    {
      "cell_type": "code",
      "source": [
        "!pip install torchinfo"
      ],
      "metadata": {
        "id": "g7cvC_n9nAgl",
        "outputId": "f2e40108-6d8e-46fc-abb2-9a4192611c60",
        "colab": {
          "base_uri": "https://localhost:8080/"
        }
      },
      "id": "g7cvC_n9nAgl",
      "execution_count": 20,
      "outputs": [
        {
          "output_type": "stream",
          "name": "stdout",
          "text": [
            "Requirement already satisfied: torchinfo in /usr/local/lib/python3.11/dist-packages (1.8.0)\n"
          ]
        }
      ]
    },
    {
      "cell_type": "code",
      "source": [
        "# To get a summary of the Model\n",
        "from torchinfo import summary\n",
        "summary(model, input_size=(10,5))"
      ],
      "metadata": {
        "id": "lrdzp8iom2Hv",
        "outputId": "ce53bc9c-b9b9-48ad-b3ef-13af17a6b7aa",
        "colab": {
          "base_uri": "https://localhost:8080/"
        }
      },
      "id": "lrdzp8iom2Hv",
      "execution_count": 21,
      "outputs": [
        {
          "output_type": "execute_result",
          "data": {
            "text/plain": [
              "==========================================================================================\n",
              "Layer (type:depth-idx)                   Output Shape              Param #\n",
              "==========================================================================================\n",
              "Model                                    [10, 1]                   --\n",
              "├─Linear: 1-1                            [10, 1]                   6\n",
              "├─Sigmoid: 1-2                           [10, 1]                   --\n",
              "==========================================================================================\n",
              "Total params: 6\n",
              "Trainable params: 6\n",
              "Non-trainable params: 0\n",
              "Total mult-adds (Units.MEGABYTES): 0.00\n",
              "==========================================================================================\n",
              "Input size (MB): 0.00\n",
              "Forward/backward pass size (MB): 0.00\n",
              "Params size (MB): 0.00\n",
              "Estimated Total Size (MB): 0.00\n",
              "=========================================================================================="
            ]
          },
          "metadata": {},
          "execution_count": 21
        }
      ]
    },
    {
      "cell_type": "markdown",
      "source": [
        "# Model with Hidden Layer"
      ],
      "metadata": {
        "id": "3987OFyRncol"
      },
      "id": "3987OFyRncol"
    },
    {
      "cell_type": "code",
      "source": [
        "# Create Model Class\n",
        "import torch\n",
        "import torch.nn as nn\n",
        "\n",
        "# NN Architecture\n",
        "class Model(nn.Module):\n",
        "  def __init__(self, num_input_features):\n",
        "    super(Model, self).__init__()\n",
        "    self.linear1 = nn.Linear(num_input_features, 3) # 5 i/p, 3 o/p\n",
        "    self.relu = nn.ReLU() # Activation function of Layer1\n",
        "    self.linear2 = nn.Linear(3, 1)  # 3 i/p, 1 o/p\n",
        "    self.sigmoid = nn.Sigmoid()\n",
        "\n",
        "  def forward(self, features):\n",
        "    out = self.linear1(features)\n",
        "    out = self.relu(out)\n",
        "    out = self.linear2(out)\n",
        "    out = self.sigmoid(out)\n",
        "    return out"
      ],
      "metadata": {
        "id": "WirHrcoNnMXJ"
      },
      "id": "WirHrcoNnMXJ",
      "execution_count": 22,
      "outputs": []
    },
    {
      "cell_type": "code",
      "source": [
        "# Create Dataset\n",
        "features = torch.rand(10,5)\n",
        "\n",
        "# Create Model\n",
        "model = Model(features.shape[1])\n",
        "\n",
        "# Call Model for Forward pass\n",
        "# use model.forward(features) or model(features)\n",
        "model(features)"
      ],
      "metadata": {
        "id": "5zW0npG2qAIt",
        "outputId": "10cb1463-c424-4a24-b12b-d173747133e0",
        "colab": {
          "base_uri": "https://localhost:8080/"
        }
      },
      "id": "5zW0npG2qAIt",
      "execution_count": 23,
      "outputs": [
        {
          "output_type": "execute_result",
          "data": {
            "text/plain": [
              "tensor([[0.4006],\n",
              "        [0.4186],\n",
              "        [0.4008],\n",
              "        [0.4442],\n",
              "        [0.4001],\n",
              "        [0.4161],\n",
              "        [0.4000],\n",
              "        [0.3964],\n",
              "        [0.4022],\n",
              "        [0.4169]], grad_fn=<SigmoidBackward0>)"
            ]
          },
          "metadata": {},
          "execution_count": 23
        }
      ]
    },
    {
      "cell_type": "code",
      "source": [
        "model.linear1.weight"
      ],
      "metadata": {
        "id": "OV1v6-4dqFRe",
        "outputId": "b8ff736b-459b-4359-a56a-b007af5fc17e",
        "colab": {
          "base_uri": "https://localhost:8080/"
        }
      },
      "id": "OV1v6-4dqFRe",
      "execution_count": 24,
      "outputs": [
        {
          "output_type": "execute_result",
          "data": {
            "text/plain": [
              "Parameter containing:\n",
              "tensor([[-0.2816,  0.1359,  0.2689, -0.2396,  0.4192],\n",
              "        [-0.2192,  0.1655,  0.4149,  0.4256, -0.4232],\n",
              "        [-0.1893,  0.1922,  0.2813,  0.3570,  0.2047]], requires_grad=True)"
            ]
          },
          "metadata": {},
          "execution_count": 24
        }
      ]
    },
    {
      "cell_type": "code",
      "source": [
        "model.linear2.weight"
      ],
      "metadata": {
        "id": "dYPmJwO-qKT8",
        "outputId": "e5fdbc94-9cbc-4936-d892-6c064bcf947b",
        "colab": {
          "base_uri": "https://localhost:8080/"
        }
      },
      "id": "dYPmJwO-qKT8",
      "execution_count": 25,
      "outputs": [
        {
          "output_type": "execute_result",
          "data": {
            "text/plain": [
              "Parameter containing:\n",
              "tensor([[-0.3920, -0.3208,  0.3178]], requires_grad=True)"
            ]
          },
          "metadata": {},
          "execution_count": 25
        }
      ]
    },
    {
      "cell_type": "code",
      "source": [
        "summary(model, input_size=(10,5))"
      ],
      "metadata": {
        "id": "-4FmT5UhqNG3",
        "outputId": "efa9d198-7a89-4133-e19d-e79166d3c84b",
        "colab": {
          "base_uri": "https://localhost:8080/"
        }
      },
      "id": "-4FmT5UhqNG3",
      "execution_count": 26,
      "outputs": [
        {
          "output_type": "execute_result",
          "data": {
            "text/plain": [
              "==========================================================================================\n",
              "Layer (type:depth-idx)                   Output Shape              Param #\n",
              "==========================================================================================\n",
              "Model                                    [10, 1]                   --\n",
              "├─Linear: 1-1                            [10, 3]                   18\n",
              "├─ReLU: 1-2                              [10, 3]                   --\n",
              "├─Linear: 1-3                            [10, 1]                   4\n",
              "├─Sigmoid: 1-4                           [10, 1]                   --\n",
              "==========================================================================================\n",
              "Total params: 22\n",
              "Trainable params: 22\n",
              "Non-trainable params: 0\n",
              "Total mult-adds (Units.MEGABYTES): 0.00\n",
              "==========================================================================================\n",
              "Input size (MB): 0.00\n",
              "Forward/backward pass size (MB): 0.00\n",
              "Params size (MB): 0.00\n",
              "Estimated Total Size (MB): 0.00\n",
              "=========================================================================================="
            ]
          },
          "metadata": {},
          "execution_count": 26
        }
      ]
    },
    {
      "cell_type": "markdown",
      "source": [
        "# Using Sequential Container"
      ],
      "metadata": {
        "id": "eOyVyKHxqZkL"
      },
      "id": "eOyVyKHxqZkL"
    },
    {
      "cell_type": "code",
      "source": [
        "# Create Model Class\n",
        "import torch\n",
        "import torch.nn as nn\n",
        "\n",
        "# NN Architecture\n",
        "class Model(nn.Module):\n",
        "  def __init__(self, num_input_features):\n",
        "    super(Model, self).__init__()\n",
        "    self.network = nn.Sequential(\n",
        "        nn.Linear(num_input_features, 3),\n",
        "        nn.ReLU(),\n",
        "        nn.Linear(3, 1),\n",
        "        nn.Sigmoid()\n",
        "    )\n",
        "\n",
        "  def forward(self, features):\n",
        "    out = self.network(features)\n",
        "    return out"
      ],
      "metadata": {
        "id": "rrkf7Q_8qPcz"
      },
      "id": "rrkf7Q_8qPcz",
      "execution_count": 27,
      "outputs": []
    },
    {
      "cell_type": "code",
      "source": [
        "# Create Dataset\n",
        "features = torch.rand(10,5)\n",
        "\n",
        "# Create Model\n",
        "model = Model(features.shape[1])\n",
        "\n",
        "# Call Model for Forward pass\n",
        "# use model.forward(features) or model(features)\n",
        "model(features)"
      ],
      "metadata": {
        "id": "5KgvodUVqz1m",
        "outputId": "a701ddef-13ee-4437-bca0-37c6fa3efdc6",
        "colab": {
          "base_uri": "https://localhost:8080/"
        }
      },
      "id": "5KgvodUVqz1m",
      "execution_count": 28,
      "outputs": [
        {
          "output_type": "execute_result",
          "data": {
            "text/plain": [
              "tensor([[0.3276],\n",
              "        [0.3326],\n",
              "        [0.3375],\n",
              "        [0.3251],\n",
              "        [0.3299],\n",
              "        [0.3252],\n",
              "        [0.3312],\n",
              "        [0.3223],\n",
              "        [0.3338],\n",
              "        [0.3416]], grad_fn=<SigmoidBackward0>)"
            ]
          },
          "metadata": {},
          "execution_count": 28
        }
      ]
    },
    {
      "cell_type": "code",
      "source": [],
      "metadata": {
        "id": "Ty5diEx9q5bi"
      },
      "id": "Ty5diEx9q5bi",
      "execution_count": null,
      "outputs": []
    }
  ],
  "metadata": {
    "language_info": {
      "name": "python"
    },
    "colab": {
      "provenance": []
    },
    "kernelspec": {
      "name": "python3",
      "display_name": "Python 3"
    }
  },
  "nbformat": 4,
  "nbformat_minor": 5
}
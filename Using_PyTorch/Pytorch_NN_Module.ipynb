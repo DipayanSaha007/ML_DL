{
 "cells": [
  {
   "cell_type": "markdown",
   "id": "6d2c7868",
   "metadata": {},
   "source": [
    "# LEC-5"
   ]
  },
  {
   "cell_type": "markdown",
   "id": "5818a661",
   "metadata": {},
   "source": []
  }
 ],
 "metadata": {
  "language_info": {
   "name": "python"
  }
 },
 "nbformat": 4,
 "nbformat_minor": 5
}

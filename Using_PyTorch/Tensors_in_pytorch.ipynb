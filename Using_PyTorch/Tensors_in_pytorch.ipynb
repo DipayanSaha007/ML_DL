{
  "cells": [
    {
      "cell_type": "code",
      "execution_count": 27,
      "id": "d02bb961",
      "metadata": {
        "colab": {
          "base_uri": "https://localhost:8080/"
        },
        "id": "d02bb961",
        "outputId": "efb23015-2b34-4e15-ffd3-7b1dfff82c43"
      },
      "outputs": [
        {
          "output_type": "stream",
          "name": "stdout",
          "text": [
            "2.6.0+cu124\n"
          ]
        }
      ],
      "source": [
        "# Importing PyTorch\n",
        "import torch\n",
        "print(torch.__version__)"
      ]
    },
    {
      "cell_type": "code",
      "execution_count": 28,
      "id": "52455a7a",
      "metadata": {
        "colab": {
          "base_uri": "https://localhost:8080/"
        },
        "id": "52455a7a",
        "outputId": "9197ece5-7014-4d96-c69f-e393f4176935"
      },
      "outputs": [
        {
          "output_type": "stream",
          "name": "stdout",
          "text": [
            "GPU is available\n",
            "Using GPU: Tesla T4\n"
          ]
        }
      ],
      "source": [
        "# To check if GPU is available\n",
        "if torch.cuda.is_available():\n",
        "    print(\"GPU is available\")\n",
        "    print(f\"Using GPU: {torch.cuda.get_device_name(0)}\")\n",
        "else:\n",
        "    print(\"GPU is not available. Using CPU\")"
      ]
    },
    {
      "cell_type": "markdown",
      "source": [
        "# Creating a **Tensor**\n"
      ],
      "metadata": {
        "id": "gvl3HRJ64x7N"
      },
      "id": "gvl3HRJ64x7N"
    },
    {
      "cell_type": "code",
      "execution_count": 29,
      "id": "fc52456f",
      "metadata": {
        "id": "fc52456f"
      },
      "outputs": [],
      "source": [
        "# Using 'empty' func\n",
        "a = torch.empty(2,3)"
      ]
    },
    {
      "cell_type": "code",
      "source": [
        "# check type\n",
        "type(a)"
      ],
      "metadata": {
        "id": "k1zZORzq5bM_",
        "outputId": "7084b3ce-e9ff-4c2c-bb94-1005b3ec0dbf",
        "colab": {
          "base_uri": "https://localhost:8080/"
        }
      },
      "id": "k1zZORzq5bM_",
      "execution_count": 30,
      "outputs": [
        {
          "output_type": "execute_result",
          "data": {
            "text/plain": [
              "torch.Tensor"
            ]
          },
          "metadata": {},
          "execution_count": 30
        }
      ]
    },
    {
      "cell_type": "code",
      "source": [
        "# Using 'zeros' func\n",
        "torch.zeros(2,3)"
      ],
      "metadata": {
        "id": "6pQBsPKH5njb",
        "outputId": "fcd8da6e-ea0e-45e9-e1fb-6a54b86dcc47",
        "colab": {
          "base_uri": "https://localhost:8080/"
        }
      },
      "id": "6pQBsPKH5njb",
      "execution_count": 31,
      "outputs": [
        {
          "output_type": "execute_result",
          "data": {
            "text/plain": [
              "tensor([[0., 0., 0.],\n",
              "        [0., 0., 0.]])"
            ]
          },
          "metadata": {},
          "execution_count": 31
        }
      ]
    },
    {
      "cell_type": "code",
      "source": [
        "# Using 'ones'\n",
        "torch.ones(2,3)"
      ],
      "metadata": {
        "id": "c71kcXmB56MF",
        "outputId": "a9bd947d-fdc9-407d-c7fa-0d425a451a4f",
        "colab": {
          "base_uri": "https://localhost:8080/"
        }
      },
      "id": "c71kcXmB56MF",
      "execution_count": 32,
      "outputs": [
        {
          "output_type": "execute_result",
          "data": {
            "text/plain": [
              "tensor([[1., 1., 1.],\n",
              "        [1., 1., 1.]])"
            ]
          },
          "metadata": {},
          "execution_count": 32
        }
      ]
    },
    {
      "cell_type": "code",
      "source": [
        "# Using 'rand'\n",
        "torch.rand(2,3)"
      ],
      "metadata": {
        "id": "CD8ZIp3n5_cv",
        "outputId": "e097844c-7bd6-4342-e58a-1b7b40932888",
        "colab": {
          "base_uri": "https://localhost:8080/"
        }
      },
      "id": "CD8ZIp3n5_cv",
      "execution_count": 33,
      "outputs": [
        {
          "output_type": "execute_result",
          "data": {
            "text/plain": [
              "tensor([[0.2627, 0.0428, 0.2080],\n",
              "        [0.1180, 0.1217, 0.7356]])"
            ]
          },
          "metadata": {},
          "execution_count": 33
        }
      ]
    },
    {
      "cell_type": "code",
      "source": [
        "# Use of 'seed'\n",
        "torch.rand(2,3) # As rand gives random value every time it is problematic"
      ],
      "metadata": {
        "id": "6kXC73Dr6GbC",
        "outputId": "a890f25d-3e04-4706-de19-d8e8cf9687cb",
        "colab": {
          "base_uri": "https://localhost:8080/"
        }
      },
      "id": "6kXC73Dr6GbC",
      "execution_count": 34,
      "outputs": [
        {
          "output_type": "execute_result",
          "data": {
            "text/plain": [
              "tensor([[0.7118, 0.7876, 0.4183],\n",
              "        [0.9014, 0.9969, 0.7565]])"
            ]
          },
          "metadata": {},
          "execution_count": 34
        }
      ]
    },
    {
      "cell_type": "code",
      "source": [
        "# Using 'manual_seed'\n",
        "torch.manual_seed(100)  # Gives same o/p for rand func\n",
        "torch.rand(2,3)"
      ],
      "metadata": {
        "id": "3VZThL8f6gai",
        "outputId": "d8aec93d-3cb6-430c-c198-254736ef263f",
        "colab": {
          "base_uri": "https://localhost:8080/"
        }
      },
      "id": "3VZThL8f6gai",
      "execution_count": 35,
      "outputs": [
        {
          "output_type": "execute_result",
          "data": {
            "text/plain": [
              "tensor([[0.1117, 0.8158, 0.2626],\n",
              "        [0.4839, 0.6765, 0.7539]])"
            ]
          },
          "metadata": {},
          "execution_count": 35
        }
      ]
    },
    {
      "cell_type": "code",
      "source": [
        "torch.manual_seed(100)  # seed value must be same to get same rand o/p\n",
        "torch.rand(2,3)"
      ],
      "metadata": {
        "id": "N4FgqYOy63P6",
        "outputId": "ac7bef22-c121-419e-cd4c-c9e0311bbbf7",
        "colab": {
          "base_uri": "https://localhost:8080/"
        }
      },
      "id": "N4FgqYOy63P6",
      "execution_count": 36,
      "outputs": [
        {
          "output_type": "execute_result",
          "data": {
            "text/plain": [
              "tensor([[0.1117, 0.8158, 0.2626],\n",
              "        [0.4839, 0.6765, 0.7539]])"
            ]
          },
          "metadata": {},
          "execution_count": 36
        }
      ]
    },
    {
      "cell_type": "code",
      "source": [
        "# Using Tensor\n",
        "torch.tensor([[1,2,3],[4,5,6]])"
      ],
      "metadata": {
        "id": "NcyjUptB7Q1Q",
        "outputId": "88daec1b-81d4-4426-ad6c-fe572d3a9f45",
        "colab": {
          "base_uri": "https://localhost:8080/"
        }
      },
      "id": "NcyjUptB7Q1Q",
      "execution_count": 37,
      "outputs": [
        {
          "output_type": "execute_result",
          "data": {
            "text/plain": [
              "tensor([[1, 2, 3],\n",
              "        [4, 5, 6]])"
            ]
          },
          "metadata": {},
          "execution_count": 37
        }
      ]
    },
    {
      "cell_type": "code",
      "source": [
        "# Other Ways\n",
        "\n",
        "# arange -> to get data in range and last alue is step or jump\n",
        "print(\"using arange -> \", torch.arange(1,10, 2))\n",
        "\n",
        "# linspace -> to get evenly spaced values in range\n",
        "print(\"using linspace -> \", torch.linspace(1,10, 10))\n",
        "\n",
        "# using eye -> to get identity matrix\n",
        "print(\"using eye -> \", torch.eye(5))\n",
        "\n",
        "# using full -> to get every item as same value in a shape\n",
        "print(\"using full -> \", torch.full((3, 3), 5))"
      ],
      "metadata": {
        "id": "ILNCvt5x7hBr",
        "outputId": "bbd5251b-d767-4c40-eae4-e87dd613d287",
        "colab": {
          "base_uri": "https://localhost:8080/"
        }
      },
      "id": "ILNCvt5x7hBr",
      "execution_count": 38,
      "outputs": [
        {
          "output_type": "stream",
          "name": "stdout",
          "text": [
            "using arange ->  tensor([1, 3, 5, 7, 9])\n",
            "using linspace ->  tensor([ 1.,  2.,  3.,  4.,  5.,  6.,  7.,  8.,  9., 10.])\n",
            "using eye ->  tensor([[1., 0., 0., 0., 0.],\n",
            "        [0., 1., 0., 0., 0.],\n",
            "        [0., 0., 1., 0., 0.],\n",
            "        [0., 0., 0., 1., 0.],\n",
            "        [0., 0., 0., 0., 1.]])\n",
            "using full ->  tensor([[5, 5, 5],\n",
            "        [5, 5, 5],\n",
            "        [5, 5, 5]])\n"
          ]
        }
      ]
    },
    {
      "cell_type": "markdown",
      "source": [
        "# Tensor **Shapes**"
      ],
      "metadata": {
        "id": "ikyS-48m84bP"
      },
      "id": "ikyS-48m84bP"
    },
    {
      "cell_type": "code",
      "source": [
        "x = torch.tensor([[1, 2, 3],[4, 5, 6]])\n",
        "x"
      ],
      "metadata": {
        "id": "KJnet2uD8Isn",
        "outputId": "5e6afcb8-fb17-4e45-b505-43eb1d88cde2",
        "colab": {
          "base_uri": "https://localhost:8080/"
        }
      },
      "id": "KJnet2uD8Isn",
      "execution_count": 39,
      "outputs": [
        {
          "output_type": "execute_result",
          "data": {
            "text/plain": [
              "tensor([[1, 2, 3],\n",
              "        [4, 5, 6]])"
            ]
          },
          "metadata": {},
          "execution_count": 39
        }
      ]
    },
    {
      "cell_type": "code",
      "source": [
        "x.shape"
      ],
      "metadata": {
        "id": "h0-PyRIB9JVU",
        "outputId": "4a43e1e3-b1b2-4615-c2db-c9322a3ed32f",
        "colab": {
          "base_uri": "https://localhost:8080/"
        }
      },
      "id": "h0-PyRIB9JVU",
      "execution_count": 40,
      "outputs": [
        {
          "output_type": "execute_result",
          "data": {
            "text/plain": [
              "torch.Size([2, 3])"
            ]
          },
          "metadata": {},
          "execution_count": 40
        }
      ]
    },
    {
      "cell_type": "code",
      "source": [
        "torch.empty_like(x) # To get a new tensor with same shape as x"
      ],
      "metadata": {
        "id": "LLmrzSRA9Qle",
        "outputId": "7477b9a6-c67a-43a7-e659-4918e2aa233e",
        "colab": {
          "base_uri": "https://localhost:8080/"
        }
      },
      "id": "LLmrzSRA9Qle",
      "execution_count": 41,
      "outputs": [
        {
          "output_type": "execute_result",
          "data": {
            "text/plain": [
              "tensor([[3616445622929465956, 6068090518685887797, 3688512086410408753],\n",
              "        [6498752769165702702, 7309453675965983778, 8315168162784306286]])"
            ]
          },
          "metadata": {},
          "execution_count": 41
        }
      ]
    },
    {
      "cell_type": "code",
      "source": [
        "torch.zeros_like(x)"
      ],
      "metadata": {
        "id": "ok8YkH-_9kF7",
        "outputId": "c1875059-054a-4423-88b9-006155a5e7fe",
        "colab": {
          "base_uri": "https://localhost:8080/"
        }
      },
      "id": "ok8YkH-_9kF7",
      "execution_count": 42,
      "outputs": [
        {
          "output_type": "execute_result",
          "data": {
            "text/plain": [
              "tensor([[0, 0, 0],\n",
              "        [0, 0, 0]])"
            ]
          },
          "metadata": {},
          "execution_count": 42
        }
      ]
    },
    {
      "cell_type": "code",
      "source": [
        "torch.ones_like(x)"
      ],
      "metadata": {
        "id": "MyfKKZUY92Vn",
        "outputId": "a9d834c2-3462-42be-f3bb-4623336cdd0f",
        "colab": {
          "base_uri": "https://localhost:8080/"
        }
      },
      "id": "MyfKKZUY92Vn",
      "execution_count": 43,
      "outputs": [
        {
          "output_type": "execute_result",
          "data": {
            "text/plain": [
              "tensor([[1, 1, 1],\n",
              "        [1, 1, 1]])"
            ]
          },
          "metadata": {},
          "execution_count": 43
        }
      ]
    },
    {
      "cell_type": "code",
      "source": [
        "torch.rand_like(x, dtype=torch.float64)"
      ],
      "metadata": {
        "id": "NWA2TPZW949L",
        "outputId": "77b0d2e3-9d93-437e-bc80-d33c70e97a79",
        "colab": {
          "base_uri": "https://localhost:8080/"
        }
      },
      "id": "NWA2TPZW949L",
      "execution_count": 56,
      "outputs": [
        {
          "output_type": "execute_result",
          "data": {
            "text/plain": [
              "tensor([[0.1015, 0.6642, 0.9736],\n",
              "        [0.6941, 0.3464, 0.9751]], dtype=torch.float64)"
            ]
          },
          "metadata": {},
          "execution_count": 56
        }
      ]
    },
    {
      "cell_type": "markdown",
      "source": [
        "# Tensor Data Types"
      ],
      "metadata": {
        "id": "z_kB2su7-gdY"
      },
      "id": "z_kB2su7-gdY"
    },
    {
      "cell_type": "code",
      "source": [
        "# find data type\n",
        "x.dtype"
      ],
      "metadata": {
        "id": "tK_gP_tL98EB",
        "outputId": "93693750-6a2d-4966-e2fe-a149d703d2ba",
        "colab": {
          "base_uri": "https://localhost:8080/"
        }
      },
      "id": "tK_gP_tL98EB",
      "execution_count": 45,
      "outputs": [
        {
          "output_type": "execute_result",
          "data": {
            "text/plain": [
              "torch.int64"
            ]
          },
          "metadata": {},
          "execution_count": 45
        }
      ]
    },
    {
      "cell_type": "code",
      "source": [
        "# assign data type\n",
        "torch.tensor([1.0, 2.0, 3.0], dtype=torch.int32)"
      ],
      "metadata": {
        "id": "MChV7TBs-tCh",
        "outputId": "c9effa32-f427-4cf2-d899-2b4953803c69",
        "colab": {
          "base_uri": "https://localhost:8080/"
        }
      },
      "id": "MChV7TBs-tCh",
      "execution_count": 50,
      "outputs": [
        {
          "output_type": "execute_result",
          "data": {
            "text/plain": [
              "tensor([1, 2, 3], dtype=torch.int32)"
            ]
          },
          "metadata": {},
          "execution_count": 50
        }
      ]
    },
    {
      "cell_type": "code",
      "source": [
        "torch.tensor([1, 2, 3], dtype=torch.float64)"
      ],
      "metadata": {
        "id": "VrzIfk2M_Jjw",
        "outputId": "4e6f7932-c603-40e0-bef8-56eecb2fa7fd",
        "colab": {
          "base_uri": "https://localhost:8080/"
        }
      },
      "id": "VrzIfk2M_Jjw",
      "execution_count": 51,
      "outputs": [
        {
          "output_type": "execute_result",
          "data": {
            "text/plain": [
              "tensor([1., 2., 3.], dtype=torch.float64)"
            ]
          },
          "metadata": {},
          "execution_count": 51
        }
      ]
    },
    {
      "cell_type": "code",
      "source": [
        "# using to()\n",
        "x.to(torch.float32)"
      ],
      "metadata": {
        "id": "R1bSfDfx_loz",
        "outputId": "3f3feea3-9b39-4091-b006-e8921d1142fa",
        "colab": {
          "base_uri": "https://localhost:8080/"
        }
      },
      "id": "R1bSfDfx_loz",
      "execution_count": 57,
      "outputs": [
        {
          "output_type": "execute_result",
          "data": {
            "text/plain": [
              "tensor([[1., 2., 3.],\n",
              "        [4., 5., 6.]])"
            ]
          },
          "metadata": {},
          "execution_count": 57
        }
      ]
    },
    {
      "cell_type": "markdown",
      "source": [
        "# Mathematical Operations"
      ],
      "metadata": {
        "id": "l0jM4D8NAVvr"
      },
      "id": "l0jM4D8NAVvr"
    },
    {
      "cell_type": "markdown",
      "source": [
        "## 1. Scalar operations"
      ],
      "metadata": {
        "id": "l4UJiNNvAgCG"
      },
      "id": "l4UJiNNvAgCG"
    },
    {
      "cell_type": "code",
      "source": [
        "x = torch.rand(2,2)\n",
        "x"
      ],
      "metadata": {
        "id": "K772lYsj_s72",
        "outputId": "a974ed48-6364-4155-c280-b27583d9224e",
        "colab": {
          "base_uri": "https://localhost:8080/"
        }
      },
      "id": "K772lYsj_s72",
      "execution_count": 58,
      "outputs": [
        {
          "output_type": "execute_result",
          "data": {
            "text/plain": [
              "tensor([[0.2239, 0.3023],\n",
              "        [0.1784, 0.8238]])"
            ]
          },
          "metadata": {},
          "execution_count": 58
        }
      ]
    },
    {
      "cell_type": "code",
      "source": [
        "# addition\n",
        "print(\"addition -> \", x + 2)\n",
        "\n",
        "#subtraction\n",
        "print(\"subtraction -> \", x - 2)\n",
        "\n",
        "#multiplication\n",
        "print(\"multiplication -> \", x * 2)\n",
        "\n",
        "#division\n",
        "print(\"division -> \", x / 2)\n",
        "\n",
        "#power\n",
        "print(\"power -> \", x ** 2)\n",
        "\n",
        "# int division\n",
        "print(\"int division -> \", x // 2)\n",
        "\n",
        "#modulus\n",
        "print(\"modulus -> \", x % 2)"
      ],
      "metadata": {
        "id": "mHVku5e9Av6l",
        "outputId": "2b937a23-3604-433c-91f2-ac91408501e9",
        "colab": {
          "base_uri": "https://localhost:8080/"
        }
      },
      "id": "mHVku5e9Av6l",
      "execution_count": 63,
      "outputs": [
        {
          "output_type": "stream",
          "name": "stdout",
          "text": [
            "addition ->  tensor([[2.2239, 2.3023],\n",
            "        [2.1784, 2.8238]])\n",
            "subtraction ->  tensor([[-1.7761, -1.6977],\n",
            "        [-1.8216, -1.1762]])\n",
            "multiplication ->  tensor([[0.4478, 0.6047],\n",
            "        [0.3568, 1.6477]])\n",
            "division ->  tensor([[0.1119, 0.1512],\n",
            "        [0.0892, 0.4119]])\n",
            "power ->  tensor([[0.0501, 0.0914],\n",
            "        [0.0318, 0.6787]])\n",
            "int division ->  tensor([[0., 0.],\n",
            "        [0., 0.]])\n",
            "modulus ->  tensor([[0.2239, 0.3023],\n",
            "        [0.1784, 0.8238]])\n"
          ]
        }
      ]
    },
    {
      "cell_type": "markdown",
      "source": [
        "## 2. Element Wise Operations"
      ],
      "metadata": {
        "id": "EqM8_dvmBjkw"
      },
      "id": "EqM8_dvmBjkw"
    },
    {
      "cell_type": "code",
      "source": [
        "a = torch.rand(2,3)\n",
        "b = torch.rand(2,3)\n",
        "a, b"
      ],
      "metadata": {
        "id": "YnEkkfABA17X",
        "outputId": "fc594f46-42fa-4db8-b834-8b04ed82e5bf",
        "colab": {
          "base_uri": "https://localhost:8080/"
        }
      },
      "id": "YnEkkfABA17X",
      "execution_count": 64,
      "outputs": [
        {
          "output_type": "execute_result",
          "data": {
            "text/plain": [
              "(tensor([[0.5557, 0.9770, 0.4440],\n",
              "         [0.9478, 0.7445, 0.4892]]),\n",
              " tensor([[0.2426, 0.7003, 0.5277],\n",
              "         [0.2472, 0.7909, 0.4235]]))"
            ]
          },
          "metadata": {},
          "execution_count": 64
        }
      ]
    },
    {
      "cell_type": "code",
      "source": [
        "# addition\n",
        "print(\"addition -> \", a + b)\n",
        "\n",
        "#subtraction\n",
        "print(\"subtraction -> \", a - b)\n",
        "\n",
        "#multiplication\n",
        "print(\"multiplication -> \", a * b)\n",
        "\n",
        "#division\n",
        "print(\"division -> \", a / b)\n",
        "\n",
        "# power\n",
        "print(\"power -> \", a ** b)\n",
        "\n",
        "# int division\n",
        "print(\"int division -> \", a // b)\n",
        "\n",
        "#modulus\n",
        "print(\"modulus -> \", a % b)"
      ],
      "metadata": {
        "id": "48kAWnaZBxaY",
        "outputId": "d3fd0056-417c-478f-a48b-bb153602b63b",
        "colab": {
          "base_uri": "https://localhost:8080/"
        }
      },
      "id": "48kAWnaZBxaY",
      "execution_count": 65,
      "outputs": [
        {
          "output_type": "stream",
          "name": "stdout",
          "text": [
            "addition ->  tensor([[0.7983, 1.6774, 0.9717],\n",
            "        [1.1950, 1.5354, 0.9127]])\n",
            "subtraction ->  tensor([[ 0.3132,  0.2767, -0.0837],\n",
            "        [ 0.7007, -0.0464,  0.0657]])\n",
            "multiplication ->  tensor([[0.1348, 0.6842, 0.2343],\n",
            "        [0.2343, 0.5888, 0.2072]])\n",
            "division ->  tensor([[2.2912, 1.3951, 0.8415],\n",
            "        [3.8346, 0.9413, 1.1552]])\n",
            "power ->  tensor([[0.8672, 0.9839, 0.6515],\n",
            "        [0.9868, 0.7919, 0.7388]])\n",
            "int division ->  tensor([[2., 1., 0.],\n",
            "        [3., 0., 1.]])\n",
            "modulus ->  tensor([[0.0706, 0.2767, 0.4440],\n",
            "        [0.2063, 0.7445, 0.0657]])\n"
          ]
        }
      ]
    },
    {
      "cell_type": "code",
      "source": [
        "c = torch.tensor([1, -2, 3, -4])\n",
        "c"
      ],
      "metadata": {
        "id": "XJpHFi5zB-7n",
        "outputId": "b4a1623b-0a33-457d-88e1-28ddc5eeae1b",
        "colab": {
          "base_uri": "https://localhost:8080/"
        }
      },
      "id": "XJpHFi5zB-7n",
      "execution_count": 67,
      "outputs": [
        {
          "output_type": "execute_result",
          "data": {
            "text/plain": [
              "tensor([ 1, -2,  3, -4])"
            ]
          },
          "metadata": {},
          "execution_count": 67
        }
      ]
    },
    {
      "cell_type": "code",
      "source": [
        "# absolute\n",
        "torch.abs(c)"
      ],
      "metadata": {
        "id": "txjkpFBxCISe",
        "outputId": "600de3b4-4da6-41fc-af6a-0ff1fb52ac02",
        "colab": {
          "base_uri": "https://localhost:8080/"
        }
      },
      "id": "txjkpFBxCISe",
      "execution_count": 68,
      "outputs": [
        {
          "output_type": "execute_result",
          "data": {
            "text/plain": [
              "tensor([1, 2, 3, 4])"
            ]
          },
          "metadata": {},
          "execution_count": 68
        }
      ]
    },
    {
      "cell_type": "code",
      "source": [
        "# negative\n",
        "torch.neg(c)"
      ],
      "metadata": {
        "id": "F8gsEG7PCOPe",
        "outputId": "d994b975-406e-43d0-fe8d-46ad5c906190",
        "colab": {
          "base_uri": "https://localhost:8080/"
        }
      },
      "id": "F8gsEG7PCOPe",
      "execution_count": 69,
      "outputs": [
        {
          "output_type": "execute_result",
          "data": {
            "text/plain": [
              "tensor([-1,  2, -3,  4])"
            ]
          },
          "metadata": {},
          "execution_count": 69
        }
      ]
    },
    {
      "cell_type": "code",
      "source": [
        "d = torch.tensor([1.9, 2.3, 3.7, 4.4])\n",
        "d"
      ],
      "metadata": {
        "id": "HouqSPtQCSID",
        "outputId": "bdb246c8-ddf9-4e6f-8dbe-492be6771d8e",
        "colab": {
          "base_uri": "https://localhost:8080/"
        }
      },
      "id": "HouqSPtQCSID",
      "execution_count": 70,
      "outputs": [
        {
          "output_type": "execute_result",
          "data": {
            "text/plain": [
              "tensor([1.9000, 2.3000, 3.7000, 4.4000])"
            ]
          },
          "metadata": {},
          "execution_count": 70
        }
      ]
    },
    {
      "cell_type": "code",
      "source": [
        "# round\n",
        "torch.round(d)"
      ],
      "metadata": {
        "id": "n15JfzrlCcBU",
        "outputId": "b96355af-6c46-482a-aa56-75473c684bd4",
        "colab": {
          "base_uri": "https://localhost:8080/"
        }
      },
      "id": "n15JfzrlCcBU",
      "execution_count": 71,
      "outputs": [
        {
          "output_type": "execute_result",
          "data": {
            "text/plain": [
              "tensor([2., 2., 4., 4.])"
            ]
          },
          "metadata": {},
          "execution_count": 71
        }
      ]
    },
    {
      "cell_type": "code",
      "source": [
        "# ceil (ceiling value)\n",
        "torch.ceil(d)"
      ],
      "metadata": {
        "id": "9s9TwRUPCkhD",
        "outputId": "cac4e78a-7872-42f0-fc16-1647e391c2f3",
        "colab": {
          "base_uri": "https://localhost:8080/"
        }
      },
      "id": "9s9TwRUPCkhD",
      "execution_count": 72,
      "outputs": [
        {
          "output_type": "execute_result",
          "data": {
            "text/plain": [
              "tensor([2., 3., 4., 5.])"
            ]
          },
          "metadata": {},
          "execution_count": 72
        }
      ]
    },
    {
      "cell_type": "code",
      "source": [
        "# floor (floor value)\n",
        "torch.floor(d)"
      ],
      "metadata": {
        "id": "T8-mYac3Cqs2",
        "outputId": "96b86da6-5662-41b8-8c60-d3f8418c4d25",
        "colab": {
          "base_uri": "https://localhost:8080/"
        }
      },
      "id": "T8-mYac3Cqs2",
      "execution_count": 73,
      "outputs": [
        {
          "output_type": "execute_result",
          "data": {
            "text/plain": [
              "tensor([1., 2., 3., 4.])"
            ]
          },
          "metadata": {},
          "execution_count": 73
        }
      ]
    },
    {
      "cell_type": "code",
      "source": [
        "# clamp (values will become within 2 and 3)\n",
        "torch.clamp(d, min=2, max=3)"
      ],
      "metadata": {
        "id": "9fo_OZEUCxuH",
        "outputId": "0fbab7a3-f624-4633-f561-9c150b03526e",
        "colab": {
          "base_uri": "https://localhost:8080/"
        }
      },
      "id": "9fo_OZEUCxuH",
      "execution_count": 74,
      "outputs": [
        {
          "output_type": "execute_result",
          "data": {
            "text/plain": [
              "tensor([2.0000, 2.3000, 3.0000, 3.0000])"
            ]
          },
          "metadata": {},
          "execution_count": 74
        }
      ]
    },
    {
      "cell_type": "markdown",
      "source": [
        "## 3. Reduction Operation"
      ],
      "metadata": {
        "id": "QynU9KEDC-el"
      },
      "id": "QynU9KEDC-el"
    },
    {
      "cell_type": "code",
      "source": [
        "e = torch.randint(size=(2, 3), low=0, high=10, dtype=torch.float32)\n",
        "e"
      ],
      "metadata": {
        "id": "MoQ3xpPLC7vX",
        "outputId": "55e5d664-c8a8-4c5a-f544-95c3e28aff48",
        "colab": {
          "base_uri": "https://localhost:8080/"
        }
      },
      "id": "MoQ3xpPLC7vX",
      "execution_count": 78,
      "outputs": [
        {
          "output_type": "execute_result",
          "data": {
            "text/plain": [
              "tensor([[5., 7., 5.],\n",
              "        [9., 9., 7.]])"
            ]
          },
          "metadata": {},
          "execution_count": 78
        }
      ]
    },
    {
      "cell_type": "code",
      "source": [
        "# sum\n",
        "print(\"sum -> \", torch.sum(e))\n",
        "\n",
        "# sum along columns\n",
        "print(\"sum along columns -> \", torch.sum(e, dim=0))\n",
        "\n",
        "# sum along rows\n",
        "print(\"sum along rows -> \", torch.sum(e, dim=1))"
      ],
      "metadata": {
        "id": "wt5CXkx8DPa-",
        "outputId": "18334309-3c7e-458c-e477-48f6595f6c28",
        "colab": {
          "base_uri": "https://localhost:8080/"
        }
      },
      "id": "wt5CXkx8DPa-",
      "execution_count": 79,
      "outputs": [
        {
          "output_type": "stream",
          "name": "stdout",
          "text": [
            "sum ->  tensor(42.)\n",
            "sum along columns ->  tensor([14., 16., 12.])\n",
            "sum along rows ->  tensor([17., 25.])\n"
          ]
        }
      ]
    },
    {
      "cell_type": "code",
      "source": [
        "# mean\n",
        "print(\"mean -> \", torch.mean(e))\n",
        "\n",
        "# mean along columns\n",
        "print(\"mean along columns -> \", torch.mean(e, dim=0))\n",
        "\n",
        "# mean along rows\n",
        "print(\"mean along rows -> \", torch.mean(e, dim=1))"
      ],
      "metadata": {
        "id": "M9LRjmKkDisY",
        "outputId": "de8ba138-651e-4f74-9f0c-ef2599ceeebf",
        "colab": {
          "base_uri": "https://localhost:8080/"
        }
      },
      "id": "M9LRjmKkDisY",
      "execution_count": 80,
      "outputs": [
        {
          "output_type": "stream",
          "name": "stdout",
          "text": [
            "mean ->  tensor(7.)\n",
            "mean along columns ->  tensor([7., 8., 6.])\n",
            "mean along rows ->  tensor([5.6667, 8.3333])\n"
          ]
        }
      ]
    },
    {
      "cell_type": "code",
      "source": [
        "# median\n",
        "print(\"median -> \", torch.median(e))\n",
        "\n",
        "# median along columns\n",
        "print(\"median along columns -> \", torch.median(e, dim=0))\n",
        "\n",
        "# median along rows\n",
        "print(\"median along rows -> \", torch.median(e, dim=1))"
      ],
      "metadata": {
        "id": "u4AJ71TpDobd",
        "outputId": "03d5cf20-bdce-4f2c-f15e-605b9e333898",
        "colab": {
          "base_uri": "https://localhost:8080/"
        }
      },
      "id": "u4AJ71TpDobd",
      "execution_count": 81,
      "outputs": [
        {
          "output_type": "stream",
          "name": "stdout",
          "text": [
            "median ->  tensor(7.)\n",
            "median along columns ->  torch.return_types.median(\n",
            "values=tensor([5., 7., 5.]),\n",
            "indices=tensor([0, 0, 0]))\n",
            "median along rows ->  torch.return_types.median(\n",
            "values=tensor([5., 9.]),\n",
            "indices=tensor([2, 0]))\n"
          ]
        }
      ]
    },
    {
      "cell_type": "code",
      "source": [
        "# max and min\n",
        "print(\"max -> \", torch.max(e))\n",
        "print(\"min -> \", torch.min(e))"
      ],
      "metadata": {
        "id": "ARKAIYGmD62K",
        "outputId": "bbeeaa76-608b-463e-e39f-ef9a8da85660",
        "colab": {
          "base_uri": "https://localhost:8080/"
        }
      },
      "id": "ARKAIYGmD62K",
      "execution_count": 82,
      "outputs": [
        {
          "output_type": "stream",
          "name": "stdout",
          "text": [
            "max ->  tensor(9.)\n",
            "min ->  tensor(5.)\n"
          ]
        }
      ]
    },
    {
      "cell_type": "code",
      "source": [
        "# product\n",
        "print(\"product -> \", torch.prod(e))\n",
        "\n",
        "# product along columns\n",
        "print(\"product along columns -> \", torch.prod(e, dim=0))\n",
        "\n",
        "# product along rows\n",
        "print(\"product along rows -> \", torch.prod(e, dim=1))"
      ],
      "metadata": {
        "id": "ZxaMN6QnEEkF",
        "outputId": "bc499a91-7845-4924-a8fa-faaa02a5ddbc",
        "colab": {
          "base_uri": "https://localhost:8080/"
        }
      },
      "id": "ZxaMN6QnEEkF",
      "execution_count": 83,
      "outputs": [
        {
          "output_type": "stream",
          "name": "stdout",
          "text": [
            "product ->  tensor(99225.)\n",
            "product along columns ->  tensor([45., 63., 35.])\n",
            "product along rows ->  tensor([175., 567.])\n"
          ]
        }
      ]
    },
    {
      "cell_type": "code",
      "source": [
        "# standard deviation\n",
        "print(\"standard deviation -> \", torch.std(e))\n",
        "\n",
        "# standard deviation along columns\n",
        "print(\"standard deviation along columns -> \", torch.std(e, dim=0))\n",
        "\n",
        "# standard deviation along rows\n",
        "print(\"standard deviation along rows -> \", torch.std(e, dim=1))"
      ],
      "metadata": {
        "id": "4Hc4oaUCEJ-X",
        "outputId": "b044184d-1d95-477d-b41e-2dc9603b39f6",
        "colab": {
          "base_uri": "https://localhost:8080/"
        }
      },
      "id": "4Hc4oaUCEJ-X",
      "execution_count": 84,
      "outputs": [
        {
          "output_type": "stream",
          "name": "stdout",
          "text": [
            "standard deviation ->  tensor(1.7889)\n",
            "standard deviation along columns ->  tensor([2.8284, 1.4142, 1.4142])\n",
            "standard deviation along rows ->  tensor([1.1547, 1.1547])\n"
          ]
        }
      ]
    },
    {
      "cell_type": "code",
      "source": [
        "# varience\n",
        "print(\"varience -> \", torch.var(e))\n",
        "\n",
        "# varience along columns\n",
        "print(\"varience along columns -> \", torch.var(e, dim=0))\n",
        "\n",
        "# varience along rows\n",
        "print(\"varience along rows -> \", torch.var(e, dim=1))"
      ],
      "metadata": {
        "id": "Duyj0fzXENWR",
        "outputId": "a3edcb9e-6063-4193-862c-ed62d7dcfa6e",
        "colab": {
          "base_uri": "https://localhost:8080/"
        }
      },
      "id": "Duyj0fzXENWR",
      "execution_count": 85,
      "outputs": [
        {
          "output_type": "stream",
          "name": "stdout",
          "text": [
            "varience ->  tensor(3.2000)\n",
            "varience along columns ->  tensor([8., 2., 2.])\n",
            "varience along rows ->  tensor([1.3333, 1.3333])\n"
          ]
        }
      ]
    },
    {
      "cell_type": "code",
      "source": [
        "# argmax -> (to get position of max item)\n",
        "print(\"argmax -> \", torch.argmax(e))\n",
        "\n",
        "# argmax along columns\n",
        "print(\"argmax along columns -> \", torch.argmax(e, dim=0))\n",
        "\n",
        "# argmax along rows\n",
        "print(\"argmax along rows -> \", torch.argmax(e, dim=1))"
      ],
      "metadata": {
        "id": "hem6jgcxERYl",
        "outputId": "00c92a6c-f2b2-4b13-826c-7f62dbcf4347",
        "colab": {
          "base_uri": "https://localhost:8080/"
        }
      },
      "id": "hem6jgcxERYl",
      "execution_count": 87,
      "outputs": [
        {
          "output_type": "stream",
          "name": "stdout",
          "text": [
            "argmax ->  tensor(3)\n",
            "argmax along columns ->  tensor([1, 1, 1])\n",
            "argmax along rows ->  tensor([1, 0])\n"
          ]
        }
      ]
    },
    {
      "cell_type": "code",
      "source": [
        "# argmin -> (to get min item position)\n",
        "print(\"argmin -> \", torch.argmin(e))\n",
        "\n",
        "# argmin along columns\n",
        "print(\"argmin along columns -> \", torch.argmin(e, dim=0))\n",
        "\n",
        "# argmin along rows\n",
        "print(\"argmin along rows -> \", torch.argmin(e, dim=1))"
      ],
      "metadata": {
        "id": "mHTzzXWrEXW4",
        "outputId": "bf514a0b-6fed-4500-925a-4fbe22922068",
        "colab": {
          "base_uri": "https://localhost:8080/"
        }
      },
      "id": "mHTzzXWrEXW4",
      "execution_count": 88,
      "outputs": [
        {
          "output_type": "stream",
          "name": "stdout",
          "text": [
            "argmin ->  tensor(0)\n",
            "argmin along columns ->  tensor([0, 0, 0])\n",
            "argmin along rows ->  tensor([0, 2])\n"
          ]
        }
      ]
    },
    {
      "cell_type": "markdown",
      "source": [
        "## 4. Matrix operations"
      ],
      "metadata": {
        "id": "T7ZbgYVJEoRm"
      },
      "id": "T7ZbgYVJEoRm"
    },
    {
      "cell_type": "code",
      "source": [
        "f = torch.randint(size=(2, 3), low=0, high=10)\n",
        "g = torch.randint(size=(3, 2), low=0, high=10)\n",
        "f, g"
      ],
      "metadata": {
        "id": "iQ7EyIIPEkYf",
        "outputId": "d87c0d6a-364a-45be-d0f7-de3339813a0b",
        "colab": {
          "base_uri": "https://localhost:8080/"
        }
      },
      "id": "iQ7EyIIPEkYf",
      "execution_count": 89,
      "outputs": [
        {
          "output_type": "execute_result",
          "data": {
            "text/plain": [
              "(tensor([[5, 9, 8],\n",
              "         [9, 7, 9]]),\n",
              " tensor([[2, 6],\n",
              "         [7, 7],\n",
              "         [8, 3]]))"
            ]
          },
          "metadata": {},
          "execution_count": 89
        }
      ]
    },
    {
      "cell_type": "code",
      "source": [
        "# Matrix Multiplication\n",
        "torch.matmul(f, g)"
      ],
      "metadata": {
        "id": "aEA2LRhTE0Wy",
        "outputId": "73454a21-d278-4d79-8635-0083230354b8",
        "colab": {
          "base_uri": "https://localhost:8080/"
        }
      },
      "id": "aEA2LRhTE0Wy",
      "execution_count": 90,
      "outputs": [
        {
          "output_type": "execute_result",
          "data": {
            "text/plain": [
              "tensor([[137, 117],\n",
              "        [139, 130]])"
            ]
          },
          "metadata": {},
          "execution_count": 90
        }
      ]
    },
    {
      "cell_type": "code",
      "source": [
        "vector1 = torch.tensor([1,2])\n",
        "vector2 = torch.tensor([3,4])\n",
        "print(vector1, vector2)\n",
        "# Dot Product\n",
        "torch.dot(vector1, vector2)"
      ],
      "metadata": {
        "id": "vIVw1BjpE74o",
        "outputId": "309bf821-2ff2-443d-f355-166b45b620af",
        "colab": {
          "base_uri": "https://localhost:8080/"
        }
      },
      "id": "vIVw1BjpE74o",
      "execution_count": 94,
      "outputs": [
        {
          "output_type": "stream",
          "name": "stdout",
          "text": [
            "tensor([1, 2]) tensor([3, 4])\n"
          ]
        },
        {
          "output_type": "execute_result",
          "data": {
            "text/plain": [
              "tensor(11)"
            ]
          },
          "metadata": {},
          "execution_count": 94
        }
      ]
    },
    {
      "cell_type": "code",
      "source": [
        "# Transpose\n",
        "torch.transpose(f, 0, 1)"
      ],
      "metadata": {
        "id": "Vobk5-ggFJ8k",
        "outputId": "8ed33f3e-ce47-4f7b-a169-86dc505765b5",
        "colab": {
          "base_uri": "https://localhost:8080/"
        }
      },
      "id": "Vobk5-ggFJ8k",
      "execution_count": 95,
      "outputs": [
        {
          "output_type": "execute_result",
          "data": {
            "text/plain": [
              "tensor([[5, 9],\n",
              "        [9, 7],\n",
              "        [8, 9]])"
            ]
          },
          "metadata": {},
          "execution_count": 95
        }
      ]
    },
    {
      "cell_type": "code",
      "source": [
        "h = torch.randint(size=(3, 3), low=0, high=10, dtype=torch.float32)\n",
        "h"
      ],
      "metadata": {
        "id": "e4qvrDBEFq5e",
        "outputId": "657f531b-48a0-425f-f76f-e6095f43bbe6",
        "colab": {
          "base_uri": "https://localhost:8080/"
        }
      },
      "id": "e4qvrDBEFq5e",
      "execution_count": 97,
      "outputs": [
        {
          "output_type": "execute_result",
          "data": {
            "text/plain": [
              "tensor([[3., 8., 8.],\n",
              "        [3., 3., 5.],\n",
              "        [0., 6., 4.]])"
            ]
          },
          "metadata": {},
          "execution_count": 97
        }
      ]
    },
    {
      "cell_type": "code",
      "source": [
        "# Determinant\n",
        "torch.det(h)"
      ],
      "metadata": {
        "id": "TRhZIs0LF0hT",
        "outputId": "758130fa-698b-412e-967c-5dd48840d02c",
        "colab": {
          "base_uri": "https://localhost:8080/"
        }
      },
      "id": "TRhZIs0LF0hT",
      "execution_count": 98,
      "outputs": [
        {
          "output_type": "execute_result",
          "data": {
            "text/plain": [
              "tensor(-6.)"
            ]
          },
          "metadata": {},
          "execution_count": 98
        }
      ]
    },
    {
      "cell_type": "code",
      "source": [
        "# Inverse\n",
        "torch.inverse(h)"
      ],
      "metadata": {
        "id": "b2h1BlRSF73V",
        "outputId": "18a530a5-af6d-4018-e406-7047e48605a7",
        "colab": {
          "base_uri": "https://localhost:8080/"
        }
      },
      "id": "b2h1BlRSF73V",
      "execution_count": 99,
      "outputs": [
        {
          "output_type": "execute_result",
          "data": {
            "text/plain": [
              "tensor([[ 3.0000, -2.6667, -2.6667],\n",
              "        [ 2.0000, -2.0000, -1.5000],\n",
              "        [-3.0000,  3.0000,  2.5000]])"
            ]
          },
          "metadata": {},
          "execution_count": 99
        }
      ]
    },
    {
      "cell_type": "markdown",
      "source": [
        "## 5. Comparison Operations"
      ],
      "metadata": {
        "id": "QOXTmLPaGHvG"
      },
      "id": "QOXTmLPaGHvG"
    },
    {
      "cell_type": "code",
      "source": [
        "i = torch.randint(size=(2, 3), low=0, high=10)\n",
        "j = torch.randint(size=(2, 3), low=0, high=10)\n",
        "i, j"
      ],
      "metadata": {
        "id": "EESyPvjxGA9v",
        "outputId": "46f77586-2c66-40b3-8d52-63736a18b04b",
        "colab": {
          "base_uri": "https://localhost:8080/"
        }
      },
      "id": "EESyPvjxGA9v",
      "execution_count": 100,
      "outputs": [
        {
          "output_type": "execute_result",
          "data": {
            "text/plain": [
              "(tensor([[0, 8, 4],\n",
              "         [7, 2, 3]]),\n",
              " tensor([[8, 5, 6],\n",
              "         [2, 9, 5]]))"
            ]
          },
          "metadata": {},
          "execution_count": 100
        }
      ]
    },
    {
      "cell_type": "code",
      "source": [
        "# Greater than\n",
        "print(\"Greater than -> \", i > j)\n",
        "\n",
        "# Less than\n",
        "print(\"Less than -> \", i < j)\n",
        "\n",
        "# Equal to\n",
        "print(\"Equal to -> \", i == j)\n",
        "\n",
        "# Not Equal to\n",
        "print(\"Not equal to -> \", i != j)\n",
        "\n",
        "# Grater than Equal to\n",
        "print(\"Grater than Equal to -> \", i >= j)\n",
        "\n",
        "# Less than Equal to\n",
        "print(\"Less than Equal to -> \", i <= j)"
      ],
      "metadata": {
        "id": "1sJ6jsg6GTSd",
        "outputId": "8c55faad-970c-42d2-af0a-ae071e8c9b52",
        "colab": {
          "base_uri": "https://localhost:8080/"
        }
      },
      "id": "1sJ6jsg6GTSd",
      "execution_count": 101,
      "outputs": [
        {
          "output_type": "stream",
          "name": "stdout",
          "text": [
            "Greater than ->  tensor([[False,  True, False],\n",
            "        [ True, False, False]])\n",
            "Less than ->  tensor([[ True, False,  True],\n",
            "        [False,  True,  True]])\n",
            "Equal to ->  tensor([[False, False, False],\n",
            "        [False, False, False]])\n",
            "Not equal to ->  tensor([[True, True, True],\n",
            "        [True, True, True]])\n",
            "Grater than Equal to ->  tensor([[False,  True, False],\n",
            "        [ True, False, False]])\n",
            "Less than Equal to ->  tensor([[ True, False,  True],\n",
            "        [False,  True,  True]])\n"
          ]
        }
      ]
    },
    {
      "cell_type": "markdown",
      "source": [
        "## 6. Special Functions"
      ],
      "metadata": {
        "id": "2FfZa_SuGkOk"
      },
      "id": "2FfZa_SuGkOk"
    },
    {
      "cell_type": "code",
      "source": [
        "k = torch.randint(size=(2, 3), low=0, high=10, dtype=torch.float32)\n",
        "k"
      ],
      "metadata": {
        "id": "Wfi_bp4AGd1D",
        "outputId": "fb8d09ca-cf13-4160-a479-9071ced70fa7",
        "colab": {
          "base_uri": "https://localhost:8080/"
        }
      },
      "id": "Wfi_bp4AGd1D",
      "execution_count": 108,
      "outputs": [
        {
          "output_type": "execute_result",
          "data": {
            "text/plain": [
              "tensor([[5., 4., 4.],\n",
              "        [1., 1., 2.]])"
            ]
          },
          "metadata": {},
          "execution_count": 108
        }
      ]
    },
    {
      "cell_type": "code",
      "source": [
        "# Log\n",
        "torch.log(k)"
      ],
      "metadata": {
        "id": "YpG41GEVGo8_",
        "outputId": "7e3f7253-5030-435c-81e4-ee031c0b5189",
        "colab": {
          "base_uri": "https://localhost:8080/"
        }
      },
      "id": "YpG41GEVGo8_",
      "execution_count": 109,
      "outputs": [
        {
          "output_type": "execute_result",
          "data": {
            "text/plain": [
              "tensor([[1.6094, 1.3863, 1.3863],\n",
              "        [0.0000, 0.0000, 0.6931]])"
            ]
          },
          "metadata": {},
          "execution_count": 109
        }
      ]
    },
    {
      "cell_type": "code",
      "source": [
        "# Exponents\n",
        "torch.exp(k)"
      ],
      "metadata": {
        "id": "AXq54BZ5Gs6A",
        "outputId": "2956189a-2cac-4654-cffa-0783fac682a4",
        "colab": {
          "base_uri": "https://localhost:8080/"
        }
      },
      "id": "AXq54BZ5Gs6A",
      "execution_count": 110,
      "outputs": [
        {
          "output_type": "execute_result",
          "data": {
            "text/plain": [
              "tensor([[148.4132,  54.5981,  54.5981],\n",
              "        [  2.7183,   2.7183,   7.3891]])"
            ]
          },
          "metadata": {},
          "execution_count": 110
        }
      ]
    },
    {
      "cell_type": "code",
      "source": [
        "# Square root\n",
        "torch.sqrt(k)"
      ],
      "metadata": {
        "id": "nNRIvjLgGwJH",
        "outputId": "3309611a-52b0-4643-ff79-2cef6529bbd5",
        "colab": {
          "base_uri": "https://localhost:8080/"
        }
      },
      "id": "nNRIvjLgGwJH",
      "execution_count": 111,
      "outputs": [
        {
          "output_type": "execute_result",
          "data": {
            "text/plain": [
              "tensor([[2.2361, 2.0000, 2.0000],\n",
              "        [1.0000, 1.0000, 1.4142]])"
            ]
          },
          "metadata": {},
          "execution_count": 111
        }
      ]
    },
    {
      "cell_type": "code",
      "source": [
        "# Sigmoid\n",
        "torch.sigmoid(k)"
      ],
      "metadata": {
        "id": "KRtO6yxSG4aM",
        "outputId": "4225c4df-171d-46f0-ddde-db9bdf9975c0",
        "colab": {
          "base_uri": "https://localhost:8080/"
        }
      },
      "id": "KRtO6yxSG4aM",
      "execution_count": 112,
      "outputs": [
        {
          "output_type": "execute_result",
          "data": {
            "text/plain": [
              "tensor([[0.9933, 0.9820, 0.9820],\n",
              "        [0.7311, 0.7311, 0.8808]])"
            ]
          },
          "metadata": {},
          "execution_count": 112
        }
      ]
    },
    {
      "cell_type": "code",
      "source": [
        "# Softmax\n",
        "torch.softmax(k, dim=0)"
      ],
      "metadata": {
        "id": "DAdGSetmG-VS",
        "outputId": "fecc9f01-e53f-496c-aee4-bc7c9a33358d",
        "colab": {
          "base_uri": "https://localhost:8080/"
        }
      },
      "id": "DAdGSetmG-VS",
      "execution_count": 113,
      "outputs": [
        {
          "output_type": "execute_result",
          "data": {
            "text/plain": [
              "tensor([[0.9820, 0.9526, 0.8808],\n",
              "        [0.0180, 0.0474, 0.1192]])"
            ]
          },
          "metadata": {},
          "execution_count": 113
        }
      ]
    },
    {
      "cell_type": "code",
      "source": [
        "# relu\n",
        "torch.relu(k)"
      ],
      "metadata": {
        "id": "qqGGU59IHAl0",
        "outputId": "7dffdf4d-cdfe-4861-c21c-ae166232aac5",
        "colab": {
          "base_uri": "https://localhost:8080/"
        }
      },
      "id": "qqGGU59IHAl0",
      "execution_count": 115,
      "outputs": [
        {
          "output_type": "execute_result",
          "data": {
            "text/plain": [
              "tensor([[5., 4., 4.],\n",
              "        [1., 1., 2.]])"
            ]
          },
          "metadata": {},
          "execution_count": 115
        }
      ]
    },
    {
      "cell_type": "markdown",
      "source": [
        "# Inplace Operations"
      ],
      "metadata": {
        "id": "PBFoRyHwHV_v"
      },
      "id": "PBFoRyHwHV_v"
    },
    {
      "cell_type": "code",
      "source": [
        "m = torch.rand(size=(2, 3))\n",
        "n = torch.rand(size=(2, 3))\n",
        "m, n"
      ],
      "metadata": {
        "id": "JYIDiYp_HP2q",
        "outputId": "456e710e-a7a8-4d42-d428-6dca4fb42e53",
        "colab": {
          "base_uri": "https://localhost:8080/"
        }
      },
      "id": "JYIDiYp_HP2q",
      "execution_count": 124,
      "outputs": [
        {
          "output_type": "execute_result",
          "data": {
            "text/plain": [
              "(tensor([[0.6594, 0.0887, 0.4890],\n",
              "         [0.5887, 0.7340, 0.8497]]),\n",
              " tensor([[0.9112, 0.4847, 0.9436],\n",
              "         [0.3904, 0.2499, 0.3206]]))"
            ]
          },
          "metadata": {},
          "execution_count": 124
        }
      ]
    },
    {
      "cell_type": "code",
      "source": [
        "m + n # Stores ans in new tensor (it does memory loss, uses memory)"
      ],
      "metadata": {
        "id": "oLa3_NhaHgCH",
        "outputId": "6d9ee18d-1bf4-4ad0-98a5-22a276736782",
        "colab": {
          "base_uri": "https://localhost:8080/"
        }
      },
      "id": "oLa3_NhaHgCH",
      "execution_count": 125,
      "outputs": [
        {
          "output_type": "execute_result",
          "data": {
            "text/plain": [
              "tensor([[1.5705, 0.5734, 1.4325],\n",
              "        [0.9792, 0.9839, 1.1703]])"
            ]
          },
          "metadata": {},
          "execution_count": 125
        }
      ]
    },
    {
      "cell_type": "code",
      "source": [
        "m.add_(n)"
      ],
      "metadata": {
        "id": "taorvQS-HnBA",
        "outputId": "b9da65a2-2105-4231-c21b-6c51980f3d63",
        "colab": {
          "base_uri": "https://localhost:8080/"
        }
      },
      "id": "taorvQS-HnBA",
      "execution_count": 126,
      "outputs": [
        {
          "output_type": "execute_result",
          "data": {
            "text/plain": [
              "tensor([[1.5705, 0.5734, 1.4325],\n",
              "        [0.9792, 0.9839, 1.1703]])"
            ]
          },
          "metadata": {},
          "execution_count": 126
        }
      ]
    },
    {
      "cell_type": "code",
      "source": [
        "m # so this is how we do inplace operations"
      ],
      "metadata": {
        "id": "wqGccHX-H-U2",
        "outputId": "672d2cd8-6f5a-42c7-d2ac-ceb258fa6a60",
        "colab": {
          "base_uri": "https://localhost:8080/"
        }
      },
      "id": "wqGccHX-H-U2",
      "execution_count": 128,
      "outputs": [
        {
          "output_type": "execute_result",
          "data": {
            "text/plain": [
              "tensor([[1.5705, 0.5734, 1.4325],\n",
              "        [0.9792, 0.9839, 1.1703]])"
            ]
          },
          "metadata": {},
          "execution_count": 128
        }
      ]
    },
    {
      "cell_type": "code",
      "source": [
        "m.relu_() # functions with '_' is inplace operations"
      ],
      "metadata": {
        "id": "QT0rAM2lIFUe",
        "outputId": "836befaf-e2c5-43b6-cfd2-a0a4d145b5b3",
        "colab": {
          "base_uri": "https://localhost:8080/"
        }
      },
      "id": "QT0rAM2lIFUe",
      "execution_count": 130,
      "outputs": [
        {
          "output_type": "execute_result",
          "data": {
            "text/plain": [
              "tensor([[1.5705, 0.5734, 1.4325],\n",
              "        [0.9792, 0.9839, 1.1703]])"
            ]
          },
          "metadata": {},
          "execution_count": 130
        }
      ]
    },
    {
      "cell_type": "markdown",
      "source": [
        "# Copying a Tensor"
      ],
      "metadata": {
        "id": "nD79Y-QVIjJb"
      },
      "id": "nD79Y-QVIjJb"
    },
    {
      "cell_type": "code",
      "source": [
        "a = torch.rand(2,3)\n",
        "a"
      ],
      "metadata": {
        "id": "rk18RQNaIUAh",
        "outputId": "a084a5d1-fc0f-4665-8693-2270adde2183",
        "colab": {
          "base_uri": "https://localhost:8080/"
        }
      },
      "id": "rk18RQNaIUAh",
      "execution_count": 145,
      "outputs": [
        {
          "output_type": "execute_result",
          "data": {
            "text/plain": [
              "tensor([[0.5688, 0.0634, 0.8993],\n",
              "        [0.2732, 0.3397, 0.1879]])"
            ]
          },
          "metadata": {},
          "execution_count": 145
        }
      ]
    },
    {
      "cell_type": "code",
      "source": [
        "b = a # Changing values of a will change in b which is not alwas desirable\n",
        "b"
      ],
      "metadata": {
        "id": "V9NQbLgQIqfB",
        "outputId": "afc5d888-99b5-49b1-8130-f25675bf5254",
        "colab": {
          "base_uri": "https://localhost:8080/"
        }
      },
      "id": "V9NQbLgQIqfB",
      "execution_count": 146,
      "outputs": [
        {
          "output_type": "execute_result",
          "data": {
            "text/plain": [
              "tensor([[0.5688, 0.0634, 0.8993],\n",
              "        [0.2732, 0.3397, 0.1879]])"
            ]
          },
          "metadata": {},
          "execution_count": 146
        }
      ]
    },
    {
      "cell_type": "code",
      "source": [
        "a[0][0]=0\n",
        "a, b"
      ],
      "metadata": {
        "id": "qSNkwErzIzb9",
        "outputId": "c9d883b2-0469-466f-be40-5b42851cc22a",
        "colab": {
          "base_uri": "https://localhost:8080/"
        }
      },
      "id": "qSNkwErzIzb9",
      "execution_count": 147,
      "outputs": [
        {
          "output_type": "execute_result",
          "data": {
            "text/plain": [
              "(tensor([[0.0000, 0.0634, 0.8993],\n",
              "         [0.2732, 0.3397, 0.1879]]),\n",
              " tensor([[0.0000, 0.0634, 0.8993],\n",
              "         [0.2732, 0.3397, 0.1879]]))"
            ]
          },
          "metadata": {},
          "execution_count": 147
        }
      ]
    },
    {
      "cell_type": "code",
      "source": [
        "# a and b are pointing to a same memory space\n",
        "id(a) == id(b)"
      ],
      "metadata": {
        "id": "w3G2T_ShJO7T",
        "outputId": "30c96962-a726-497e-99aa-630d0d4c2cb2",
        "colab": {
          "base_uri": "https://localhost:8080/"
        }
      },
      "id": "w3G2T_ShJO7T",
      "execution_count": 148,
      "outputs": [
        {
          "output_type": "execute_result",
          "data": {
            "text/plain": [
              "True"
            ]
          },
          "metadata": {},
          "execution_count": 148
        }
      ]
    },
    {
      "cell_type": "code",
      "source": [
        "b = a.clone() # b has a new Memory location\n",
        "a, b"
      ],
      "metadata": {
        "id": "GebyM3i4Jh06",
        "outputId": "d6e53d63-bda4-4dde-842f-e1ae50264883",
        "colab": {
          "base_uri": "https://localhost:8080/"
        }
      },
      "id": "GebyM3i4Jh06",
      "execution_count": 149,
      "outputs": [
        {
          "output_type": "execute_result",
          "data": {
            "text/plain": [
              "(tensor([[0.0000, 0.0634, 0.8993],\n",
              "         [0.2732, 0.3397, 0.1879]]),\n",
              " tensor([[0.0000, 0.0634, 0.8993],\n",
              "         [0.2732, 0.3397, 0.1879]]))"
            ]
          },
          "metadata": {},
          "execution_count": 149
        }
      ]
    },
    {
      "cell_type": "code",
      "source": [
        "a[0][0] = 10\n",
        "a, b"
      ],
      "metadata": {
        "id": "bN3It1SUJoLU",
        "outputId": "9599ac68-97fa-47bb-b919-7f11f84428a9",
        "colab": {
          "base_uri": "https://localhost:8080/"
        }
      },
      "id": "bN3It1SUJoLU",
      "execution_count": 150,
      "outputs": [
        {
          "output_type": "execute_result",
          "data": {
            "text/plain": [
              "(tensor([[10.0000,  0.0634,  0.8993],\n",
              "         [ 0.2732,  0.3397,  0.1879]]),\n",
              " tensor([[0.0000, 0.0634, 0.8993],\n",
              "         [0.2732, 0.3397, 0.1879]]))"
            ]
          },
          "metadata": {},
          "execution_count": 150
        }
      ]
    },
    {
      "cell_type": "code",
      "source": [
        "id(a) == id(b)"
      ],
      "metadata": {
        "id": "EB0cEWwqJv3_",
        "outputId": "b28fcbba-9495-40f0-e2e0-0bc43daea32c",
        "colab": {
          "base_uri": "https://localhost:8080/"
        }
      },
      "id": "EB0cEWwqJv3_",
      "execution_count": 151,
      "outputs": [
        {
          "output_type": "execute_result",
          "data": {
            "text/plain": [
              "False"
            ]
          },
          "metadata": {},
          "execution_count": 151
        }
      ]
    },
    {
      "cell_type": "markdown",
      "source": [
        "# Tensor Operations on GPU"
      ],
      "metadata": {
        "id": "GKOT10d6KIdB"
      },
      "id": "GKOT10d6KIdB"
    },
    {
      "cell_type": "code",
      "source": [
        "torch.cuda.is_available()"
      ],
      "metadata": {
        "id": "nnyFquNpJyc8",
        "outputId": "f020c4f3-aded-4cac-8762-44edc29b8e39",
        "colab": {
          "base_uri": "https://localhost:8080/"
        }
      },
      "id": "nnyFquNpJyc8",
      "execution_count": 153,
      "outputs": [
        {
          "output_type": "execute_result",
          "data": {
            "text/plain": [
              "True"
            ]
          },
          "metadata": {},
          "execution_count": 153
        }
      ]
    },
    {
      "cell_type": "code",
      "source": [
        "device = torch.device('cuda')\n",
        "device"
      ],
      "metadata": {
        "id": "7NNiVZ7_KSQ8",
        "outputId": "3ed625fb-1200-4e24-9ade-60b915779143",
        "colab": {
          "base_uri": "https://localhost:8080/"
        }
      },
      "id": "7NNiVZ7_KSQ8",
      "execution_count": 154,
      "outputs": [
        {
          "output_type": "execute_result",
          "data": {
            "text/plain": [
              "device(type='cuda')"
            ]
          },
          "metadata": {},
          "execution_count": 154
        }
      ]
    },
    {
      "cell_type": "code",
      "source": [
        "# Creating a new Tensor on GPU\n",
        "torch.rand(2,3, device=device)"
      ],
      "metadata": {
        "id": "Awi7u3iWKcnr",
        "outputId": "9682a97e-e4d9-4d33-e95b-a09fd6f585fd",
        "colab": {
          "base_uri": "https://localhost:8080/"
        }
      },
      "id": "Awi7u3iWKcnr",
      "execution_count": 155,
      "outputs": [
        {
          "output_type": "execute_result",
          "data": {
            "text/plain": [
              "tensor([[0.3563, 0.0303, 0.7088],\n",
              "        [0.2009, 0.0224, 0.9896]], device='cuda:0')"
            ]
          },
          "metadata": {},
          "execution_count": 155
        }
      ]
    },
    {
      "cell_type": "code",
      "source": [
        "a = torch.rand(2,3) # Tensor on CPU\n",
        "a"
      ],
      "metadata": {
        "id": "_fKHQ0BPKzhK",
        "outputId": "c38e2779-b7b4-4d0c-fd38-4e838a379612",
        "colab": {
          "base_uri": "https://localhost:8080/"
        }
      },
      "id": "_fKHQ0BPKzhK",
      "execution_count": 157,
      "outputs": [
        {
          "output_type": "execute_result",
          "data": {
            "text/plain": [
              "tensor([[0.9431, 0.8519, 0.9815],\n",
              "        [0.1132, 0.4783, 0.4436]])"
            ]
          },
          "metadata": {},
          "execution_count": 157
        }
      ]
    },
    {
      "cell_type": "code",
      "source": [
        "# Moving an existing Tensor to GPU\n",
        "b = a.to(device)\n",
        "b"
      ],
      "metadata": {
        "id": "ocXhUmM_KpMQ",
        "outputId": "7754d2cd-d0d9-4ff2-d819-bd3cc33bdc1d",
        "colab": {
          "base_uri": "https://localhost:8080/"
        }
      },
      "id": "ocXhUmM_KpMQ",
      "execution_count": 159,
      "outputs": [
        {
          "output_type": "execute_result",
          "data": {
            "text/plain": [
              "tensor([[0.9431, 0.8519, 0.9815],\n",
              "        [0.1132, 0.4783, 0.4436]], device='cuda:0')"
            ]
          },
          "metadata": {},
          "execution_count": 159
        }
      ]
    },
    {
      "cell_type": "code",
      "source": [
        "b + 5 # Operation performed on GPU"
      ],
      "metadata": {
        "id": "hN6JFgsNK-i9",
        "outputId": "53a25cd3-9871-41eb-ff05-555490d6d782",
        "colab": {
          "base_uri": "https://localhost:8080/"
        }
      },
      "id": "hN6JFgsNK-i9",
      "execution_count": 163,
      "outputs": [
        {
          "output_type": "execute_result",
          "data": {
            "text/plain": [
              "tensor([[5.9431, 5.8519, 5.9815],\n",
              "        [5.1132, 5.4783, 5.4436]], device='cuda:0')"
            ]
          },
          "metadata": {},
          "execution_count": 163
        }
      ]
    },
    {
      "cell_type": "code",
      "source": [],
      "metadata": {
        "id": "T7gulf8BLFNJ"
      },
      "id": "T7gulf8BLFNJ",
      "execution_count": 162,
      "outputs": []
    }
  ],
  "metadata": {
    "kernelspec": {
      "display_name": "Python 3",
      "name": "python3"
    },
    "language_info": {
      "codemirror_mode": {
        "name": "ipython",
        "version": 3
      },
      "file_extension": ".py",
      "mimetype": "text/x-python",
      "name": "python",
      "nbconvert_exporter": "python",
      "pygments_lexer": "ipython3",
      "version": "3.12.6"
    },
    "colab": {
      "provenance": [],
      "gpuType": "T4"
    },
    "accelerator": "GPU"
  },
  "nbformat": 4,
  "nbformat_minor": 5
}
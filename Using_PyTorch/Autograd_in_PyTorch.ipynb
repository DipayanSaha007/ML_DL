{
 "cells": [
  {
   "cell_type": "markdown",
   "id": "ee192251",
   "metadata": {},
   "source": [
    "# LEC-3"
   ]
  },
  {
   "cell_type": "code",
   "execution_count": null,
   "id": "4fcfa9a3",
   "metadata": {},
   "outputs": [],
   "source": [
    "import torch"
   ]
  },
  {
   "cell_type": "code",
   "execution_count": null,
   "id": "8927ff71",
   "metadata": {},
   "outputs": [],
   "source": []
  }
 ],
 "metadata": {
  "kernelspec": {
   "display_name": "Python 3",
   "language": "python",
   "name": "python3"
  },
  "language_info": {
   "name": "python",
   "version": "3.12.6"
  }
 },
 "nbformat": 4,
 "nbformat_minor": 5
}

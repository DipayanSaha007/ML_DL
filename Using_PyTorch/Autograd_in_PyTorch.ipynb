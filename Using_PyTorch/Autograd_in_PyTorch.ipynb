{
  "cells": [
    {
      "cell_type": "markdown",
      "id": "ee192251",
      "metadata": {
        "id": "ee192251"
      },
      "source": [
        "# LEC-3"
      ]
    },
    {
      "cell_type": "code",
      "execution_count": 18,
      "id": "4fcfa9a3",
      "metadata": {
        "id": "4fcfa9a3"
      },
      "outputs": [],
      "source": [
        "import torch"
      ]
    },
    {
      "cell_type": "code",
      "execution_count": 19,
      "id": "8927ff71",
      "metadata": {
        "id": "8927ff71",
        "outputId": "35e96182-deb1-45c3-f0b3-925c3ab48418",
        "colab": {
          "base_uri": "https://localhost:8080/"
        }
      },
      "outputs": [
        {
          "output_type": "execute_result",
          "data": {
            "text/plain": [
              "6"
            ]
          },
          "metadata": {},
          "execution_count": 19
        }
      ],
      "source": [
        "# Doing Derivative without using 'argmax'\n",
        "def dy_dx(x):\n",
        "  return 2*x  # Equation of dy/dx\n",
        "\n",
        "dy_dx(3)"
      ]
    },
    {
      "cell_type": "code",
      "source": [
        "# Now for derivation chain, where y=x^2 and z=sin(y), getting dz/dx is tough\n",
        "import math\n",
        "\n",
        "def dz_dx(x):\n",
        "  return 2*x*math.cos(x**2) # Equation of dz/dx\n",
        "\n",
        "dz_dx(3)"
      ],
      "metadata": {
        "id": "_Up_tjKMP5dF",
        "outputId": "a994d541-024e-49a0-9199-2bdc12ff04e0",
        "colab": {
          "base_uri": "https://localhost:8080/"
        }
      },
      "id": "_Up_tjKMP5dF",
      "execution_count": 20,
      "outputs": [
        {
          "output_type": "execute_result",
          "data": {
            "text/plain": [
              "-5.466781571308061"
            ]
          },
          "metadata": {},
          "execution_count": 20
        }
      ]
    },
    {
      "cell_type": "markdown",
      "source": [
        "# Using Autograd"
      ],
      "metadata": {
        "id": "gSptrPYeVrZk"
      },
      "id": "gSptrPYeVrZk"
    },
    {
      "cell_type": "code",
      "source": [
        "import torch"
      ],
      "metadata": {
        "id": "KUwlTf25Qitb"
      },
      "id": "KUwlTf25Qitb",
      "execution_count": 21,
      "outputs": []
    },
    {
      "cell_type": "markdown",
      "source": [
        "## Example 1: y = x^2"
      ],
      "metadata": {
        "id": "VVnjKUdvXV63"
      },
      "id": "VVnjKUdvXV63"
    },
    {
      "cell_type": "code",
      "source": [
        "# requires_grad -> to get derivatives later\n",
        "x = torch.tensor(3.0, requires_grad=True)\n",
        "y = x**2\n",
        "print(x, y)\n",
        "y.backward() # dy/dx = 2x\n",
        "x.grad # x.grad contains dy/dx"
      ],
      "metadata": {
        "id": "_o7cDLM6Vxp7",
        "outputId": "8e18cb63-329d-491f-e35b-f51795e3a18e",
        "colab": {
          "base_uri": "https://localhost:8080/"
        }
      },
      "id": "_o7cDLM6Vxp7",
      "execution_count": 22,
      "outputs": [
        {
          "output_type": "stream",
          "name": "stdout",
          "text": [
            "tensor(3., requires_grad=True) tensor(9., grad_fn=<PowBackward0>)\n"
          ]
        },
        {
          "output_type": "execute_result",
          "data": {
            "text/plain": [
              "tensor(6.)"
            ]
          },
          "metadata": {},
          "execution_count": 22
        }
      ]
    },
    {
      "cell_type": "markdown",
      "source": [
        "## Example 2: y = x^2, z = sin(y)"
      ],
      "metadata": {
        "id": "p7-5PuauXaYJ"
      },
      "id": "p7-5PuauXaYJ"
    },
    {
      "cell_type": "code",
      "source": [
        "x = torch.tensor(3.0, requires_grad=True)\n",
        "y = x**2 # y = x^2\n",
        "z = torch.sin(y) # z = sin(y)\n",
        "print(x, y, z)\n",
        "z.backward() # dz/dx\n",
        "x.grad # same when without using autograd"
      ],
      "metadata": {
        "id": "P11yIwIpWgHK",
        "outputId": "b7dd260a-cf57-4b69-9af8-259594517043",
        "colab": {
          "base_uri": "https://localhost:8080/"
        }
      },
      "id": "P11yIwIpWgHK",
      "execution_count": 24,
      "outputs": [
        {
          "output_type": "stream",
          "name": "stdout",
          "text": [
            "tensor(3., requires_grad=True) tensor(9., grad_fn=<PowBackward0>) tensor(0.4121, grad_fn=<SinBackward0>)\n"
          ]
        },
        {
          "output_type": "execute_result",
          "data": {
            "text/plain": [
              "tensor(-5.4668)"
            ]
          },
          "metadata": {},
          "execution_count": 24
        }
      ]
    },
    {
      "cell_type": "code",
      "source": [],
      "metadata": {
        "id": "Ws_Onvx3YQoD"
      },
      "id": "Ws_Onvx3YQoD",
      "execution_count": 23,
      "outputs": []
    }
  ],
  "metadata": {
    "kernelspec": {
      "display_name": "Python 3",
      "language": "python",
      "name": "python3"
    },
    "language_info": {
      "name": "python",
      "version": "3.12.6"
    },
    "colab": {
      "provenance": []
    }
  },
  "nbformat": 4,
  "nbformat_minor": 5
}
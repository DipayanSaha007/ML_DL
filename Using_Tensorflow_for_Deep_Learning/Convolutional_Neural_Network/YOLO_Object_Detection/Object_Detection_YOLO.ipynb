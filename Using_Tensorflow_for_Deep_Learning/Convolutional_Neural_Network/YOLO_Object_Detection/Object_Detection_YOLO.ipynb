{
 "cells": [
  {
   "cell_type": "markdown",
   "metadata": {},
   "source": [
    "# **Using YOLOv8 for Object Detection**"
   ]
  },
  {
   "cell_type": "code",
   "execution_count": 5,
   "metadata": {},
   "outputs": [
    {
     "name": "stdout",
     "output_type": "stream",
     "text": [
      "\n",
      "0: 640x512 5 persons, 95.5ms\n",
      "Speed: 14.5ms preprocess, 95.5ms inference, 2.0ms postprocess per image at shape (1, 3, 640, 512)\n"
     ]
    }
   ],
   "source": [
    "from ultralytics import YOLO\n",
    "import cv2\n",
    "\n",
    "# Load the YOLOv8 model (pretrained on COCO dataset)\n",
    "model = YOLO('yolov8n.pt')  # Replace 'yolov8n.pt' with other weights like yolov8s.pt, yolov8m.pt, etc.\n",
    "\n",
    "# Load an image\n",
    "image_path = r\"C:\\Users\\User\\OneDrive\\Desktop\\ML_Projects\\Project\\Image-Project\\images_dataset\\lionel_messi\\de1e3ba2246c28ebc55bb01c9a0618e7.jpg\"\n",
    "image = cv2.imread(image_path)\n",
    "\n",
    "# Perform inference\n",
    "results = model(image)\n",
    "\n",
    "# Display results\n",
    "for result in results:\n",
    "    boxes = result.boxes  # Detected bounding boxes\n",
    "    for box in boxes:\n",
    "        # Get box details\n",
    "        x1, y1, x2, y2 = map(int, box.xyxy[0].tolist())  # Bounding box coordinates\n",
    "        confidence = box.conf[0]  # Confidence score\n",
    "        class_id = int(box.cls[0])  # Class ID\n",
    "        label = model.names[class_id]  # Class name\n",
    "\n",
    "        # Draw the bounding box and label on the image\n",
    "        color = (0, 255, 0)  # Green for bounding box\n",
    "        cv2.rectangle(image, (x1, y1), (x2, y2), color, 2)\n",
    "        cv2.putText(image, f\"{label} {confidence:.2f}\", (x1, y1 - 10),\n",
    "                    cv2.FONT_HERSHEY_SIMPLEX, 0.5, color, 2)\n",
    "\n",
    "# Show the output\n",
    "cv2.imshow(\"YOLOv8 Detection\", image)\n",
    "cv2.waitKey(0)\n",
    "cv2.destroyAllWindows()"
   ]
  },
  {
   "cell_type": "code",
   "execution_count": null,
   "metadata": {},
   "outputs": [],
   "source": []
  },
  {
   "cell_type": "code",
   "execution_count": null,
   "metadata": {},
   "outputs": [],
   "source": []
  }
 ],
 "metadata": {
  "kernelspec": {
   "display_name": "Python 3",
   "language": "python",
   "name": "python3"
  },
  "language_info": {
   "codemirror_mode": {
    "name": "ipython",
    "version": 3
   },
   "file_extension": ".py",
   "mimetype": "text/x-python",
   "name": "python",
   "nbconvert_exporter": "python",
   "pygments_lexer": "ipython3",
   "version": "3.12.6"
  }
 },
 "nbformat": 4,
 "nbformat_minor": 2
}
